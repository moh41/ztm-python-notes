{
 "cells": [
  {
   "cell_type": "markdown",
   "metadata": {},
   "source": [
    "# Python Introduction"
   ]
  },
  {
   "cell_type": "markdown",
   "metadata": {},
   "source": [
    "## What is a programming language?"
   ]
  },
  {
   "cell_type": "markdown",
   "metadata": {},
   "source": [
    "- **Programming** is a way for us to give instructions to computers\n",
    "- Computers speak in 1's and 0's, but this would be hard for us to communicate with. We therefore use programming languages, and some are low-level while others are high-level like Python.\n",
    "- We need a translator to take our **source code** that we write to machine code. These translators are either **interpreters** or **compilers**.\n",
    "\t- **Interpreter** translates our code line by line and executes these lines as it translates.\n",
    "\t- **Compilers** read our entire files we provide first and then translates and executes them.\n",
    "- In order for us to start writing Python, we need to download the translation service."
   ]
  },
  {
   "cell_type": "markdown",
   "metadata": {},
   "source": [
    "## Python Interpreter"
   ]
  },
  {
   "cell_type": "markdown",
   "metadata": {},
   "source": [
    "- We download Python from [https://www.python.org](https://www.python.org)\n",
    "- When people talk about Python they often talk about the implementation. What we download is the cpython interpreter and VM.\n",
    "- There's plenty of interpreters, like cpython, Jython, PyPy, IronPython. When you're downloading Python, you're downloading cpython that does our translation for us.\n",
    "- We're downloading a machine that takes our Python code and it goes through the interpreter (cpython) which then creates byte code, which then uses the cpython virtual machine to then convert the byte code to machine code which can be run on our machine.\n",
    "\t- Python code --> cpython Interpreter --> byte code --> cpython VM --> machine code"
   ]
  },
  {
   "cell_type": "markdown",
   "metadata": {},
   "source": [
    "## Python Introduction"
   ]
  },
  {
   "cell_type": "markdown",
   "metadata": {},
   "source": [
    "We're going to setup Python with:\n",
    "\n",
    "- Terminal\n",
    "- Code Editors\n",
    "\t- Sublime Text\n",
    "\t- VSCode\n",
    "- IDEs\n",
    "\t- Pycharm\n",
    "\t- Spyder\n",
    "- Notebooks\n",
    "\t- Jupyter Notebook\n",
    "- Online services\n",
    "\t- repl.it\n",
    "\t- glot.io\n",
    "\n",
    "**Note:** When changing/updating your Python version, change the PATH variable to the latest version and delete old versions."
   ]
  },
  {
   "cell_type": "markdown",
   "metadata": {},
   "source": [
    "## Python 2 vs Python 3"
   ]
  },
  {
   "cell_type": "markdown",
   "metadata": {},
   "source": [
    "\n",
    "- Programming languages are constantly evolving, with Python created in 1991.\n",
    "- In 2008, Python 3 was created which has **breaking changes**.\n",
    "- Most companies kept Python 2 at the time.\n",
    "- You can easily learn the differences between Python 2.x and 3.x online\n",
    "- We're going to learn Python 3"
   ]
  },
  {
   "cell_type": "markdown",
   "metadata": {},
   "source": [
    "## Why so many languages?"
   ]
  },
  {
   "cell_type": "markdown",
   "metadata": {},
   "source": [
    "- In your career you can be very successful with just one language, like Python and Javascript.\n",
    "- Python is good for developer productivity and write code really fast.\n",
    "- If you want to build apps on mobile devices, often you won't use Python.\n",
    "- If you want to use data science, machine learning, and plenty other use cases then Python is really good.\n",
    "- Every language has tradeoffs, pros and cons."
   ]
  },
  {
   "cell_type": "markdown",
   "metadata": {},
   "source": [
    "## Exercise: How does Python work?"
   ]
  },
  {
   "cell_type": "markdown",
   "metadata": {},
   "source": [
    "Python is a programming language where you can write code in a way humans can understand. Since computers communicate in 1's and 0's which humans would have trouble working with, there needs to be a way for us to write human-readable code so Python is one way to do so. We need to translate our human-readable code of Python into machine code somehow. So we download and use translators called interpreters and compilers for programming languages. With Python, often we use the cpython interpreter (though there are plenty of other interpreters) which reads and executes our code line-by-line to translate our Python code into byte code, and then we use the cpython virtual machine to convert our byte code into machine code. This is all done in the background for us while the developer only has to focus on the coding aspect."
   ]
  },
  {
   "cell_type": "markdown",
   "metadata": {},
   "source": [
    "- [Python Cheat Sheet](https://zerotomastery.io/cheatsheets/python-cheat-sheet/)\n",
    "- [Python Cheat Sheet GitHub](https://github.com/aneagoie/ztm-python-cheat-sheet)\n",
    "- [All course Python code](https://github.com/saurabh618/All-Python-codes-of-ZTM-course-by-Andrei-Neagoie)"
   ]
  }
 ],
 "metadata": {
  "language_info": {
   "name": "python"
  },
  "orig_nbformat": 4
 },
 "nbformat": 4,
 "nbformat_minor": 2
}
