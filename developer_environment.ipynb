{
 "cells": [
  {
   "cell_type": "markdown",
   "metadata": {},
   "source": [
    "# Developer Environment"
   ]
  },
  {
   "cell_type": "markdown",
   "metadata": {},
   "source": [
    "## Python Developer Tools"
   ]
  },
  {
   "cell_type": "markdown",
   "metadata": {},
   "source": [
    "- Terminal\n",
    "- Code Editors\n",
    "  - Sublime Text\n",
    "  - VSCode\n",
    "- IDEs\n",
    "  - PyCharm - Has many tools already built in\n",
    "  - Spyder\n",
    "- Jupyter\n",
    "\n",
    "Code Editors are lightweight with features like auto-completion and linting, while IDEs are full-fledged environments and tend to be larger in file size (meanwhile code editors need you to install features manually)."
   ]
  },
  {
   "cell_type": "markdown",
   "metadata": {},
   "source": [
    "## Code Formatting - PEP 8"
   ]
  },
  {
   "cell_type": "markdown",
   "metadata": {},
   "source": [
    "Linters are like spell checkers, they check your code for errors and provide suggestions to fix them. Pylint is a popular linter for Python on VSCode.\n",
    "\n",
    "Python Enhancement Proposals (PEP) are ways to standardize code formatting that the Python developer community gives. PEP8 is a style guide for Python code.\n",
    "\n",
    "In VSCode we can use the Format Document command to format the code. autopep8 is a tool that automatically formats code according to PEP8. You can enable Editor: Format on Save from VSCode settings. PyCharm already has PEP8 support/checks. You can use the Reformat Code command from the Code menu."
   ]
  },
  {
   "cell_type": "markdown",
   "metadata": {},
   "source": [
    "## Jupyter Notebooks"
   ]
  },
  {
   "cell_type": "markdown",
   "metadata": {},
   "source": [
    "Jupyter Notebooks are popular with data scientists and machine learning engineers. We can go to [https://anaconda.com/](https://anaconda.com/) to install many different tools (including Python) by downloading the Anaconda Distribution. Some tools it includes are:\n",
    "\n",
    "- Jupyter Lab/Noteboook\n",
    "- SciPy\n",
    "- Spyder\n",
    "- NumPy\n",
    "- DASK\n",
    "- bokeh\n",
    "- scikit learn\n",
    "- TensorFlow\n",
    "- Numba\n",
    "- pandas\n",
    "- Panel\n",
    "- matplotlib\n",
    "- PyTorch\n",
    "- Conda\n",
    "- HoloViews\n",
    "\n",
    "The Anaconda distribution is large, but there's also Miniconda.\n",
    "\n",
    "Jupyter Notebooks creates a `.ipynb_checkpoints` folder to keep track of our notebooks, and `.ipynb` files are the actual notebooks. You can run Jupyter Notebooks offline too since Jupyter Notebook runs a local server for you to work with.\n",
    "\n",
    "Jupyter Notebooks allow you to run separate code blocks in a notebook and see their output, and also you can write Markdown text."
   ]
  }
 ],
 "metadata": {
  "language_info": {
   "name": "python"
  },
  "orig_nbformat": 4
 },
 "nbformat": 4,
 "nbformat_minor": 2
}
