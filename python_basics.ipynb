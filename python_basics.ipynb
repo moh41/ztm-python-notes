{
 "cells": [
  {
   "cell_type": "markdown",
   "metadata": {},
   "source": [
    "# Python Basics"
   ]
  },
  {
   "cell_type": "markdown",
   "metadata": {},
   "source": [
    "## Learning Python"
   ]
  },
  {
   "cell_type": "markdown",
   "metadata": {},
   "source": [
    "- Terms\n",
    "\t- Variables\n",
    "- Data Types\n",
    "\t- Values to store information\n",
    "- Actions\n",
    "\t- Perform some actions (i.e. on data)\n",
    "- Best Practices"
   ]
  },
  {
   "cell_type": "markdown",
   "metadata": {},
   "source": [
    "## Python Data Types and Math"
   ]
  },
  {
   "cell_type": "code",
   "execution_count": null,
   "metadata": {},
   "outputs": [],
   "source": [
    "# Numbers: int, float\n",
    "\n",
    "# Integers\n",
    "print(2 + 4)\n",
    "print(2 - 4)\n",
    "print(2 * 4)\n",
    "print(2 / 4)\n",
    "\n",
    "# Double multiply\n",
    "print(2 ** 4)\n",
    "\n",
    "# Double divide\n",
    "print(2 // 4) # Returns an integer rounded down (floor division)\n",
    "\n",
    "# Modulo\n",
    "print(5 % 4) # Returns the remainder of the division\n",
    "\n",
    "# Types of numbers\n",
    "print(type(2 + 4))\n",
    "print(type(2 - 4))\n",
    "print(type(2 * 4))\n",
    "print(type(2 / 4))\n",
    "\n",
    "# Floats - numbers with decimal values\n",
    "print(type(20 + 1.1))\n",
    "print(type(9.9 + 1.1))\n",
    "\n",
    "# A float takes up a lot more memory than int\n",
    "# Numbers are stored in binary form, and its harder to store with floats\n",
    "# Therefore we need more memory to store floats than ints\n",
    "\n",
    "# Math Functions\n",
    "\n",
    "# Round\n",
    "print(round(3.1)) # Rounds to the nearest integer\n",
    "# Absolute value\n",
    "print(abs(-20)) # Returns the absolute value of the number"
   ]
  },
  {
   "cell_type": "markdown",
   "metadata": {},
   "source": [
    "## Developer Fundamentals I"
   ]
  },
  {
   "cell_type": "markdown",
   "metadata": {},
   "source": [
    "- Don't read the dictionary.\n",
    "- Don't memorize everything, just understand what you can use and search what you need.\n",
    "- Focus on the things that matter."
   ]
  },
  {
   "cell_type": "markdown",
   "metadata": {},
   "source": [
    "## Operator Precedence"
   ]
  },
  {
   "cell_type": "markdown",
   "metadata": {},
   "source": [
    "- **Operator Precedence** is the order of mathematical operations.\n",
    "- `()`\n",
    "- `**`\n",
    "- `* /`\n",
    "- `+ -`"
   ]
  },
  {
   "cell_type": "markdown",
   "metadata": {},
   "source": [
    "## bin() and complex"
   ]
  },
  {
   "cell_type": "markdown",
   "metadata": {},
   "source": [
    "- Another data type `complex`\n",
    "- Integers and floats get stored as binary in Python\n",
    "- `bin()` returns the binary representation of a number"
   ]
  },
  {
   "cell_type": "code",
   "execution_count": null,
   "metadata": {},
   "outputs": [],
   "source": [
    "# There is a data type called complex\n",
    "# complex\n",
    "print(bin(5)) # 0b101\n",
    "print(int('0b101', 2)) # 5"
   ]
  },
  {
   "cell_type": "markdown",
   "metadata": {},
   "source": [
    "\n",
    "## Variables"
   ]
  },
  {
   "cell_type": "markdown",
   "metadata": {},
   "source": [
    "- **Variables** store information that can be used in our programs\n",
    "- Programs are data that is being added/changed/deleted/updated\n",
    "- Best practices\n",
    "\t- snake_case\n",
    "\t- Start with lowercase or underscore\n",
    "\t- Letters, numbers, underscores\n",
    "\t- Case sensitive\n",
    "\t- Don't overwrite keywords\n",
    "- Constants never change in a program\n",
    "\t- You name constants with all capital letters\n",
    "- Dunder variables should be left alone, any they start with two underscores."
   ]
  },
  {
   "cell_type": "code",
   "execution_count": null,
   "metadata": {},
   "outputs": [],
   "source": [
    "\n",
    "PI = 3.14"
   ]
  },
  {
   "cell_type": "markdown",
   "metadata": {},
   "source": [
    "\n",
    "- You can rapid-assign values to variables"
   ]
  },
  {
   "cell_type": "code",
   "execution_count": null,
   "metadata": {},
   "outputs": [],
   "source": [
    "a, b, c = 1, 2, 3"
   ]
  },
  {
   "cell_type": "markdown",
   "metadata": {},
   "source": [
    "\n",
    "## Expressions vs Statements"
   ]
  },
  {
   "cell_type": "markdown",
   "metadata": {},
   "source": [
    "- An **expression** is a piece of code that produces a value"
   ]
  },
  {
   "cell_type": "code",
   "execution_count": null,
   "metadata": {},
   "outputs": [],
   "source": [
    "10 / 5"
   ]
  },
  {
   "cell_type": "markdown",
   "metadata": {},
   "source": [
    "- A **statement** is an entire line of code that performs an action"
   ]
  },
  {
   "cell_type": "code",
   "execution_count": null,
   "metadata": {},
   "outputs": [],
   "source": [
    "\n",
    "iq = 10 / 5"
   ]
  },
  {
   "cell_type": "markdown",
   "metadata": {},
   "source": [
    "\n",
    "## Augmented Assignment Operator"
   ]
  },
  {
   "cell_type": "markdown",
   "metadata": {},
   "source": [
    "- We can use an **augmented assignment operator** which is a shorthand form for operations\n",
    "- We need to make sure the variable has a value first\n",
    "- `+=`\n",
    "- `-=`\n",
    "- `*=`\n",
    "- `/=`\n",
    "- `//=`\n",
    "- `%=`\n",
    "- `**=`\n",
    "- `&=`\n",
    "- `|=`\n",
    "- `^=`\n",
    "- `<<=`\n",
    "- `>>=`\n"
   ]
  },
  {
   "cell_type": "code",
   "execution_count": null,
   "metadata": {},
   "outputs": [],
   "source": [
    "some_value = 5\n",
    "some_value += 2"
   ]
  },
  {
   "cell_type": "markdown",
   "metadata": {},
   "source": [
    "## Strings"
   ]
  },
  {
   "cell_type": "markdown",
   "metadata": {},
   "source": [
    "- A **string** is basically a piece of text"
   ]
  },
  {
   "cell_type": "code",
   "execution_count": null,
   "metadata": {},
   "outputs": [],
   "source": [
    "print('hi hello there 24!')\n",
    "username = 'supercoder'\n",
    "password = 'supersecret'\n",
    "long_string = '''\n",
    "WOW\n",
    "0 0\n",
    "---\n",
    "'''\n",
    "\n",
    "first_name = 'Mueez'\n",
    "last_name = 'Khan'\n",
    "full_name = first_name + ' ' + last_name"
   ]
  },
  {
   "cell_type": "markdown",
   "metadata": {},
   "source": [
    "## String Concatenation"
   ]
  },
  {
   "cell_type": "markdown",
   "metadata": {},
   "source": [
    "- **String concatenation** means adding strings together"
   ]
  },
  {
   "cell_type": "code",
   "execution_count": null,
   "metadata": {},
   "outputs": [],
   "source": [
    "\n",
    "print('hello' + ' ' + 'there')"
   ]
  },
  {
   "cell_type": "markdown",
   "metadata": {},
   "source": [
    "\n",
    "## Type Conversion\n",
    "\n"
   ]
  },
  {
   "cell_type": "code",
   "execution_count": null,
   "metadata": {},
   "outputs": [],
   "source": [
    "print(type(int(str(100))))"
   ]
  },
  {
   "cell_type": "markdown",
   "metadata": {},
   "source": [
    "**Type conversion** is converting the type of our data types."
   ]
  },
  {
   "cell_type": "markdown",
   "metadata": {},
   "source": [
    "## Escape Sequences"
   ]
  },
  {
   "cell_type": "markdown",
   "metadata": {},
   "source": [
    "**Escape sequences** are special characters that allow us to use characters that are not normally allowed.\n",
    "\n",
    "- `\\t` - tab\n",
    "- `\\n` - new line"
   ]
  },
  {
   "cell_type": "code",
   "execution_count": null,
   "metadata": {},
   "outputs": [],
   "source": [
    "weather = \"\\t It\\'s \\\"kind of\\\" sunny\\n Hope you have a good day!\"\n",
    "print(weather)"
   ]
  },
  {
   "cell_type": "markdown",
   "metadata": {},
   "source": [
    "## Formatted Strings"
   ]
  },
  {
   "cell_type": "markdown",
   "metadata": {},
   "source": [
    "Ideally we want to have dynamic strings. You can add an **f-string** which Python 3 uses to format strings.\n",
    "\n",
    "Python 2 uses `.format()` which you can still use in Python 3."
   ]
  },
  {
   "cell_type": "code",
   "execution_count": null,
   "metadata": {},
   "outputs": [],
   "source": [
    "name = 'Mueez'\n",
    "age = 55\n",
    "\n",
    "print(f'Hi {name}, you are {age} years old.')\n",
    "print('Hi {1}. You are {0} years old.'.format(age, name))\n",
    "print('Hi {new_name}. You are {new_age} years old.'.format(new_name='Potato', new_age=100))"
   ]
  },
  {
   "cell_type": "markdown",
   "metadata": {},
   "source": [
    "## String Indexes"
   ]
  },
  {
   "cell_type": "markdown",
   "metadata": {},
   "source": [
    "Strings are stored as an ordered sequence of characters. Therefore we can use string indexing to access, modify, or delete characters. We can also use **string slicing** to get a substring."
   ]
  },
  {
   "cell_type": "code",
   "execution_count": null,
   "metadata": {},
   "outputs": [],
   "source": [
    "selfish = 'me me me'\n",
    "print(selfish[0])\n",
    "\n",
    "numbers = '01234567'\n",
    "# [start:stop:step]\n",
    "print(numbers[0:2])\n",
    "print(numbers[0:8:2])\n",
    "print(numbers[1:])\n",
    "print(numbers[:5])\n",
    "print(numbers[::1])\n",
    "print(numbers[-1])\n",
    "print(numbers[::-1])\n",
    "print(numbers[::-2])"
   ]
  },
  {
   "cell_type": "markdown",
   "metadata": {},
   "source": [
    "## Immutability"
   ]
  },
  {
   "cell_type": "markdown",
   "metadata": {},
   "source": [
    "Strings in Python are **immutable**, meaning they cannot be changed."
   ]
  },
  {
   "cell_type": "code",
   "execution_count": null,
   "metadata": {},
   "outputs": [],
   "source": [
    "selfish = '01234567'\n",
    "selfish[0] = '8'\n",
    "\n",
    "print(selfish)"
   ]
  },
  {
   "cell_type": "markdown",
   "metadata": {},
   "source": [
    "## Built-In Functions + Methods"
   ]
  },
  {
   "cell_type": "markdown",
   "metadata": {},
   "source": [
    "- `len()` calculates the length of a string"
   ]
  },
  {
   "cell_type": "code",
   "execution_count": null,
   "metadata": {},
   "outputs": [],
   "source": [
    "greet = 'hellooooo'\n",
    "print(greet[:len(greet)])"
   ]
  },
  {
   "cell_type": "markdown",
   "metadata": {},
   "source": [
    "A built-in function performs some action on data types.\n",
    "\n",
    "Built-in methods are actions that only work on certain data types. Often we see these methods starting with a `.` (dot).\n",
    "\n",
    "Remember, strings are immutable. When we use methods on the string, we are actually creating a new string. We can't change the original string because it is immutable."
   ]
  },
  {
   "cell_type": "code",
   "execution_count": null,
   "metadata": {},
   "outputs": [],
   "source": [
    "quote = 'to be or not to be'\n",
    "quote2 = quote.replace('be', 'fly')\n",
    "\n",
    "print(quote.upper())\n",
    "print(quote.capitalize())\n",
    "print(quote.find('be'))\n",
    "print(quote.replace('be', 'eat'))\n",
    "print(quote)\n",
    "print(quote2)"
   ]
  },
  {
   "cell_type": "markdown",
   "metadata": {},
   "source": [
    "## Booleans"
   ]
  },
  {
   "cell_type": "markdown",
   "metadata": {},
   "source": [
    "Booleans in Python is `bool`, which has a value of either `True` or `False`. This is similar to 1 and 0, meaning they are logical values."
   ]
  },
  {
   "cell_type": "code",
   "execution_count": null,
   "metadata": {},
   "outputs": [],
   "source": [
    "name = 'Mueez'\n",
    "is_cool = False\n",
    "\n",
    "is_cool = True\n",
    "\n",
    "print(bool(1))\n",
    "print(bool(0))"
   ]
  },
  {
   "cell_type": "markdown",
   "metadata": {},
   "source": [
    "## Exercise: Type Conversion"
   ]
  },
  {
   "cell_type": "code",
   "execution_count": null,
   "metadata": {},
   "outputs": [],
   "source": [
    "birth_year = input('What year were you born?')\n",
    "age = 2022 - int(birth_year)\n",
    "print(f'You are about {age} years old.')"
   ]
  },
  {
   "cell_type": "markdown",
   "metadata": {},
   "source": [
    "## Developer Fundamentals II"
   ]
  },
  {
   "cell_type": "markdown",
   "metadata": {},
   "source": [
    "- Commenting your code.\n",
    "- Add comments only when something is really complex, hard-to-read, or important. But try to make your code concise, simple, and understandable first.\n",
    "\n",
    "[Commenting best practices.](https://realpython.com/python-comments-guide/)"
   ]
  },
  {
   "cell_type": "markdown",
   "metadata": {},
   "source": [
    "**Function docstrings** are used to document your functions. Here's an example:\n",
    "\n",
    "```python\n",
    "def sparsity_ratio(x: np.array) -> float:\n",
    "    \"\"\"Return a float\n",
    "\n",
    "    Percentage of values in array that are zero or NaN\n",
    "    \"\"\"\n",
    "```"
   ]
  },
  {
   "cell_type": "code",
   "execution_count": null,
   "metadata": {},
   "outputs": [],
   "source": [
    "def sparsity_ratio(x: np.array) -> float:\n",
    "    \"\"\"Return a float\n",
    "\n",
    "    Percentage of values in array that are zero or NaN\n",
    "    \"\"\""
   ]
  },
  {
   "cell_type": "markdown",
   "metadata": {},
   "source": [
    "The **script file/module** docstring helps us understand what the does and is placed at the top of the file."
   ]
  },
  {
   "cell_type": "code",
   "execution_count": null,
   "metadata": {},
   "outputs": [],
   "source": [
    "# -*- coding: utf-8 -*-\n",
    "\"\"\"A module-level docstring\n",
    "\n",
    "Notice the comment above the docstring specifying the encoding.\n",
    "Docstrings do appear in the bytecode, so you can access this through\n",
    "the ``__doc__`` attribute. This is also what you'll see if you call\n",
    "help() on a module or any other Python object.\n",
    "\"\"\""
   ]
  },
  {
   "cell_type": "markdown",
   "metadata": {},
   "source": [
    "## Exercise: Password Checker"
   ]
  },
  {
   "cell_type": "code",
   "execution_count": null,
   "metadata": {},
   "outputs": [],
   "source": [
    "# Get user input\n",
    "username = input('Enter your username: ')\n",
    "password = input('Enter your password: ')\n",
    "\n",
    "# Get password length and create hidden password based on length\n",
    "password_length = len(password)\n",
    "hidden_password = '*' * password_length\n",
    "\n",
    "print(f'{username}, your password {hidden_password} is {str(password_length)} characters long.')"
   ]
  },
  {
   "cell_type": "markdown",
   "metadata": {},
   "source": [
    "## Lists"
   ]
  },
  {
   "cell_type": "markdown",
   "metadata": {},
   "source": [
    "A **list** is an ordered sequence of objects that can be of any types. Lists are like arrays. Lists are an example of a **data structure**. Lists are 0-indexed. Items in a list are next to each other in memory."
   ]
  },
  {
   "cell_type": "code",
   "execution_count": null,
   "metadata": {},
   "outputs": [],
   "source": [
    "amazon_cart = ['notebooks', 'sunglasses']\n",
    "\n",
    "# Data Structures"
   ]
  },
  {
   "cell_type": "markdown",
   "metadata": {},
   "source": [
    "## List Slicing"
   ]
  },
  {
   "cell_type": "markdown",
   "metadata": {},
   "source": [
    "You can specify a range of items in a list by using the **list slicing** syntax. Lists are mutable, so we can change the values in a list. When we use list slicing, we create a new copy of a list."
   ]
  },
  {
   "cell_type": "code",
   "execution_count": null,
   "metadata": {},
   "outputs": [],
   "source": [
    "# List slicing\n",
    "amazon_cart = [\n",
    "    'notebooks',\n",
    "    'sunglasses',\n",
    "    'toys',\n",
    "    'grapes'\n",
    "    ]\n",
    "print(amazon_cart)\n",
    "print(amazon_cart[0:2])\n",
    "print(amazon_cart[::2])\n",
    "amazon_cart[0] = 'laptop'\n",
    "new_cart = amazon_cart[0:3]\n",
    "new_cart = amazon_cart\n",
    "# new_cart = amazon_cart[:] # Copy the list by value\n",
    "new_cart[0] = 'gum'\n",
    "print(new_cart)\n",
    "print(amazon_cart)\n"
   ]
  },
  {
   "cell_type": "markdown",
   "metadata": {},
   "source": [
    "## Matrix"
   ]
  },
  {
   "cell_type": "markdown",
   "metadata": {},
   "source": [
    "A **matrix** is a way to represent a multi-dimensional list/array. Often matrices come up in machine learning and photo processing."
   ]
  },
  {
   "cell_type": "code",
   "execution_count": null,
   "metadata": {},
   "outputs": [],
   "source": [
    "# Matrix\n",
    "matrix = [\n",
    "    [1,2,3],\n",
    "    [2,4,6],\n",
    "    [7,8,9]\n",
    "]\n",
    "\n",
    "print(matrix[0][1])"
   ]
  },
  {
   "cell_type": "markdown",
   "metadata": {},
   "source": [
    "## List Methods"
   ]
  },
  {
   "cell_type": "code",
   "execution_count": null,
   "metadata": {},
   "outputs": [],
   "source": [
    "basket = [1,2,3,4,5]\n",
    "print(len(basket)) # Calculate the length of a variable\n",
    "\n",
    "# Adding to end of a list\n",
    "basket.append(100)\n",
    "print(basket)\n",
    "\n",
    "# Insert at a specific index\n",
    "basket.insert(4, 74)\n",
    "print(basket)\n",
    "\n",
    "# Extend a list (add multiple items)\n",
    "basket.extend([101, 102])\n",
    "print(basket)\n",
    "\n",
    "# Removing from the end of a list (also returns the removed item)\n",
    "basket.pop()\n",
    "print(basket)\n",
    "\n",
    "# Remove at specific index\n",
    "basket.pop(0)\n",
    "print(basket)\n",
    "\n",
    "# Remove specific item (value)\n",
    "basket.remove(74)\n",
    "print(basket)\n",
    "\n",
    "# Clear everything from the list\n",
    "basket.clear()\n",
    "print(basket)"
   ]
  },
  {
   "cell_type": "markdown",
   "metadata": {},
   "source": [
    "## List Methods 2"
   ]
  },
  {
   "cell_type": "code",
   "execution_count": null,
   "metadata": {},
   "outputs": [],
   "source": [
    "basket2 = ['a', 'b', 'c', 'd', 'e']\n",
    "\n",
    "# Check if a value is in the list\n",
    "print('d' in basket2)\n",
    "print('x' in basket2)\n",
    "print('i' in 'hi my name is Larry')\n",
    "\n",
    "# Count how many times an item appears in a list\n",
    "print(basket.count('d'))"
   ]
  },
  {
   "cell_type": "markdown",
   "metadata": {},
   "source": [
    "## List Methods 3"
   ]
  },
  {
   "cell_type": "code",
   "execution_count": null,
   "metadata": {},
   "outputs": [],
   "source": [
    "basket3 = ['a', 'b', 'c', 'd', 'e', 'd']\n",
    "\n",
    "# Sort a list in place\n",
    "basket3.sort()\n",
    "print(basket3)\n",
    "\n",
    "# sorted() returns a new sorted list\n",
    "print(sorted(basket3))\n",
    "\n",
    "# copy() returns a new copied list\n",
    "new_basket = basket3.copy()\n",
    "print(new_basket)\n",
    "\n",
    "# Reverse a list in place (doesn't sort it)\n",
    "basket3.reverse()\n",
    "print(basket3)\n",
    "\n",
    "# Sort and reverse a list in place\n",
    "basket4 = basket3[:]\n",
    "basket4.sort()\n",
    "basket4.reverse()\n",
    "print(basket4)"
   ]
  },
  {
   "cell_type": "markdown",
   "metadata": {},
   "source": [
    "## Common List Patterns"
   ]
  },
  {
   "cell_type": "code",
   "execution_count": null,
   "metadata": {},
   "outputs": [],
   "source": [
    "basket5 = ['a', 'x', 'b', 'c', 'd', 'e', 'd']\n",
    "\n",
    "basket5.sort()\n",
    "basket5.reverse()\n",
    "# Reverse a list\n",
    "print(basket5[::-1])\n",
    "\n",
    "# Range as a list\n",
    "# 1 to 99\n",
    "print(list(range(1, 100)))\n",
    "# 0 to 99\n",
    "print(list(range(100)))\n",
    "# 0 to 100\n",
    "print(list(range(101)))\n",
    "\n",
    "# Join two lists\n",
    "sentence = ' '.join(['Hi', 'my', 'name', 'is', 'Larry!'])\n",
    "print(sentence)"
   ]
  },
  {
   "cell_type": "markdown",
   "metadata": {},
   "source": [
    "## List Unpacking"
   ]
  },
  {
   "cell_type": "code",
   "execution_count": null,
   "metadata": {},
   "outputs": [],
   "source": [
    "# List unpacking\n",
    "a,b,c, *other, d = [1,2,3,4,5,6,7,8,9]\n",
    "\n",
    "print(a)\n",
    "print(b)\n",
    "print(c)\n",
    "print(other)\n",
    "print(d)"
   ]
  },
  {
   "cell_type": "markdown",
   "metadata": {},
   "source": [
    "## None"
   ]
  },
  {
   "cell_type": "markdown",
   "metadata": {},
   "source": [
    "**`None`** is a special data type that exists in Python. In other languages, often they have something similar called `null`. `None` is the absence of a value."
   ]
  },
  {
   "cell_type": "code",
   "execution_count": null,
   "metadata": {},
   "outputs": [],
   "source": [
    "skills = None\n",
    "print(skills)"
   ]
  },
  {
   "cell_type": "markdown",
   "metadata": {},
   "source": [
    "## Dictionary"
   ]
  },
  {
   "cell_type": "markdown",
   "metadata": {},
   "source": [
    "In other languages, dictionaries may be called a hash table, map, or object.\n",
    "\n",
    "A **dictionary** is a data type that stores unordered key-value pairs. It is also a data structure. It's a way for us to organize our data.\n",
    "\n",
    "Data structures are containers around our data. So they can have different types of data inside them."
   ]
  },
  {
   "cell_type": "code",
   "execution_count": null,
   "metadata": {},
   "outputs": [],
   "source": [
    "# Dictionary\n",
    "\n",
    "# A key is a string for us to grab a value\n",
    "dictionary = {\n",
    "    'a': [1,2,3],\n",
    "    'b': 'hello',\n",
    "    'x': True\n",
    "}\n",
    "\n",
    "my_list = [\n",
    "{\n",
    "    'a': [1,2,3],\n",
    "    'b': 'hello',\n",
    "    'x': True\n",
    "},\n",
    "{\n",
    "    'a': [4,5,6],\n",
    "    'b': 'hello',\n",
    "    'x': True\n",
    "}   \n",
    "]\n",
    "\n",
    "print(my_list[0]['a'])\n",
    "print(my_list[1]['a'])\n",
    "print(dictionary['b'])"
   ]
  },
  {
   "cell_type": "markdown",
   "metadata": {},
   "source": [
    "## Developer Fundamentals: III"
   ]
  },
  {
   "cell_type": "markdown",
   "metadata": {},
   "source": [
    "Understanding data structures. It's important to understand when to use a certain data structure over another.\n",
    "\n",
    "- A dictionary is not sorted (unordered), while a list has order.\n",
    "- Dictionaries have more information than a list. Dictionaries have a key and a value (both customizable). Lists only have numerical indices and values."
   ]
  },
  {
   "cell_type": "markdown",
   "metadata": {},
   "source": [
    "## Dictionary Keys"
   ]
  },
  {
   "cell_type": "markdown",
   "metadata": {},
   "source": [
    "- A dictionary's values can hold any data type.\n",
    "- A dictionary's keys must be immutable (unchangeable). Therefore, we can't use a list as a key.\n",
    "- A dictionary's keys must be unique (not repeated)."
   ]
  },
  {
   "cell_type": "code",
   "execution_count": null,
   "metadata": {},
   "outputs": [],
   "source": [
    "# Dictionary\n",
    "\n",
    "dictionary = {\n",
    "    123: [1,2,3],\n",
    "    True: 'hello',\n",
    "    '[100]': False\n",
    "}\n",
    "\n",
    "print(dictionary['[100]'])"
   ]
  },
  {
   "cell_type": "markdown",
   "metadata": {},
   "source": [
    "## Dictionary Methods"
   ]
  },
  {
   "cell_type": "code",
   "execution_count": null,
   "metadata": {},
   "outputs": [],
   "source": [
    "user = {\n",
    "    'basket': [1,2,3],\n",
    "    'greet': 'hello'\n",
    "}\n",
    "\n",
    "print(user.get('age')) # Returns None if key doesn't exist\n",
    "print(user.get('age', 55)) # If key doesn't exist, return 55\n",
    "print(user['age'] if 'age' in user else 'Unknown')\n",
    "\n",
    "# Create a dictionary using dict()\n",
    "user2 = dict(name='Mueez', age=19)\n",
    "print(user2)"
   ]
  },
  {
   "cell_type": "markdown",
   "metadata": {},
   "source": [
    "## Dictionary Methods 2"
   ]
  },
  {
   "cell_type": "code",
   "execution_count": null,
   "metadata": {},
   "outputs": [],
   "source": [
    "user = {\n",
    "    'basket': [1,2,3],\n",
    "    'greet': 'hello',\n",
    "    'age': 20\n",
    "}\n",
    "\n",
    "print('size' in user)\n",
    "print('greet' in user.keys())\n",
    "print('greet' in user.values())\n",
    "print('hello' in user.keys())\n",
    "print('hello' in user.values())\n",
    "print(user.items())\n",
    "\n",
    "user2 = user.copy()\n",
    "print(user)\n",
    "print(user2)\n",
    "\n",
    "# Update a dictionary\n",
    "print(user.update({'age': 55}))\n",
    "print(user)\n",
    "\n",
    "# Remove a key:value from dictionary and return value\n",
    "print(user.pop('age'))\n",
    "\n",
    "# Removes the last key:value in the list\n",
    "print(user.popitem())\n",
    "\n",
    "# Clear dictionary in place\n",
    "user.clear()\n",
    "print(user)\n",
    "print(user2)"
   ]
  },
  {
   "cell_type": "markdown",
   "metadata": {},
   "source": [
    "## Tuples"
   ]
  },
  {
   "cell_type": "markdown",
   "metadata": {},
   "source": [
    "A **tuple** is like a list but cannot be modified, so it is immutable."
   ]
  },
  {
   "cell_type": "code",
   "execution_count": null,
   "metadata": {},
   "outputs": [],
   "source": [
    "# Tuple\n",
    "my_tuple = (1,2,3,4,5)\n",
    "# my_tuple[1] = 'z' # Can't do this\n",
    "print(my_tuple[1])\n",
    "print(5 in my_tuple)\n",
    "\n",
    "# A dictionary can have keys that are immutable, so you can use tuples as keys\n",
    "\n",
    "user = {\n",
    "    (1,2): [1,2,3],\n",
    "    'greet': 'hello',\n",
    "    'age': 20\n",
    "}\n",
    "\n",
    "print(user.items())\n",
    "print(user[(1,2)])"
   ]
  },
  {
   "cell_type": "markdown",
   "metadata": {},
   "source": [
    "## Tuples 2"
   ]
  },
  {
   "cell_type": "code",
   "execution_count": null,
   "metadata": {},
   "outputs": [],
   "source": [
    "my_tuple = (1,2,3,4,5)\n",
    "new_tuple = my_tuple[1:2]\n",
    "x,y,z, *other = my_tuple\n",
    "print(x)\n",
    "print(y)\n",
    "print(z)\n",
    "print(other)\n",
    "\n",
    "# Count how many times an item appears in a tuple\n",
    "print(my_tuple.count(5))\n",
    "\n",
    "# Get index of value\n",
    "print(my_tuple.index(5))\n",
    "\n",
    "# Get length of tuple\n",
    "print(len(my_tuple))"
   ]
  },
  {
   "cell_type": "markdown",
   "metadata": {},
   "source": [
    "## Sets"
   ]
  },
  {
   "cell_type": "markdown",
   "metadata": {},
   "source": [
    "A **set** is a data type/structure that stores an unordered collection of unique values. A set's data is altogether in sequence in memory. To access a value in a set, you can't use indexing."
   ]
  },
  {
   "cell_type": "code",
   "execution_count": null,
   "metadata": {},
   "outputs": [],
   "source": [
    "my_set = {1,2,3,4,5}\n",
    "my_set.add(100)\n",
    "my_set.add(2)\n",
    "print(my_set)"
   ]
  },
  {
   "cell_type": "code",
   "execution_count": null,
   "metadata": {},
   "outputs": [],
   "source": [
    "my_list = [1,2,3,4,5,5]\n",
    "unique_list = set(my_list)\n",
    "print(unique_list)\n",
    "\n",
    "print(5 in my_set)\n",
    "print(len(my_set))\n",
    "print(list(my_set))\n",
    "new_set = my_set.copy()\n",
    "my_set.clear()\n",
    "print(my_set)\n",
    "print(new_set)"
   ]
  },
  {
   "cell_type": "markdown",
   "metadata": {},
   "source": [
    "## Sets 2"
   ]
  },
  {
   "cell_type": "code",
   "execution_count": null,
   "metadata": {},
   "outputs": [],
   "source": [
    "my_set = {1,2,3,4,5,}\n",
    "your_set = {4,5,6,7,8,9,10}\n",
    "\n",
    "# Only shows what's different between the two sets\n",
    "# print(my_set.difference(your_set))\n",
    "\n",
    "# Removes an element from the set if it's a member\n",
    "# my_set.discard(5)\n",
    "# print(my_set)\n",
    "\n",
    "# Remove all elements of another set from this set\n",
    "# my_set.difference_update(your_set)\n",
    "# print(my_set)\n",
    "\n",
    "# Common values between two sets\n",
    "# print(my_set.intersection(your_set))\n",
    "# print(my_set & your_set)\n",
    "\n",
    "# Do the elements have nothing at all in common?\n",
    "# print(my_set.isdisjoint((your_set)))\n",
    "\n",
    "# print(my_set.issubset(your_set))\n",
    "# print(my_set.issuperset(your_set))\n",
    "\n",
    "# Combines two sets and removes any duplicates, creates a new set\n",
    "# print(my_set.union(your_set))\n",
    "# print(my_set | your_set)"
   ]
  }
 ],
 "metadata": {
  "interpreter": {
   "hash": "a23238b22d0e83c1704f993aada4b11b330ee1fc6ea5fc3a1c4c03d39a35b23d"
  },
  "kernelspec": {
   "display_name": "Python 3.10.2 64-bit",
   "language": "python",
   "name": "python3"
  },
  "language_info": {
   "codemirror_mode": {
    "name": "ipython",
    "version": 3
   },
   "file_extension": ".py",
   "mimetype": "text/x-python",
   "name": "python",
   "nbconvert_exporter": "python",
   "pygments_lexer": "ipython3",
   "version": "3.10.2"
  },
  "orig_nbformat": 4
 },
 "nbformat": 4,
 "nbformat_minor": 2
}
