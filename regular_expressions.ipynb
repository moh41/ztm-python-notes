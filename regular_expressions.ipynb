{
 "cells": [
  {
   "cell_type": "markdown",
   "metadata": {},
   "source": [
    "# Regular Expressions"
   ]
  },
  {
   "cell_type": "markdown",
   "metadata": {},
   "source": [
    "## Regular Expressions"
   ]
  },
  {
   "cell_type": "markdown",
   "metadata": {},
   "source": [
    "**Regular expressions** are in most languages and Python has a built-in regular expression library called `re`."
   ]
  },
  {
   "cell_type": "code",
   "execution_count": null,
   "metadata": {},
   "outputs": [],
   "source": [
    "import re\n",
    "\n",
    "string = 'This is a string woah this is a cool string yo wow'\n",
    "\n",
    "print('string' in string)\n",
    "\n",
    "match_object = re.search('This', string)\n",
    "\n",
    "print(match_object.span())\n",
    "print(match_object.start())\n",
    "print(match_object.group())\n",
    "\n",
    "match_object2 = re.search('this', string)\n",
    "try:\n",
    "    print(match_object2.group())\n",
    "except:\n",
    "    print('No match')\n",
    "\n",
    "pattern = re.compile('This')\n",
    "\n",
    "match_object3 = pattern.search(string)\n",
    "print(match_object3.group())\n",
    "match_object4 = pattern.fullmatch(string)\n",
    "\n",
    "try:\n",
    "    print(match_object4.group())\n",
    "except:\n",
    "    print('Not a full match')"
   ]
  },
  {
   "cell_type": "code",
   "execution_count": null,
   "metadata": {},
   "outputs": [],
   "source": [
    "import re\n",
    "\n",
    "pattern = re.compile('search this inside of this text please!')\n",
    "string = 'search this inside of this text please!'\n",
    "\n",
    "a = pattern.search(string)\n",
    "b = pattern.findall(string)\n",
    "c = pattern.fullmatch(string)\n",
    "d = pattern.match(string)\n",
    "print(a)\n",
    "print(b)\n",
    "print(c)\n",
    "print(d)"
   ]
  },
  {
   "cell_type": "markdown",
   "metadata": {},
   "source": [
    "## Regular Expressions 2"
   ]
  },
  {
   "cell_type": "markdown",
   "metadata": {},
   "source": [
    "[regex101.com](https://regex101.com) is a great tool to build and test regular expressions.\n",
    "\n",
    "In python we can use **raw strings** that can be made with `r\"\"` so that the interpreter interprets it as just a string and doesn't include backslash interpretation."
   ]
  },
  {
   "cell_type": "markdown",
   "metadata": {},
   "source": [
    "## Exercises: Interactive RegEx"
   ]
  },
  {
   "cell_type": "markdown",
   "metadata": {},
   "source": [
    "Try practicing regular expressions at [RegexOne](https://regexone.com/)."
   ]
  },
  {
   "cell_type": "markdown",
   "metadata": {},
   "source": [
    "## Regular Expressions 3"
   ]
  },
  {
   "cell_type": "code",
   "execution_count": null,
   "metadata": {},
   "outputs": [],
   "source": [
    "import re\n",
    "\n",
    "pattern = re.compile(r\"(^[a-zA-Z0-9_.+-]+@[a-zA-Z0-9-]+\\.[a-zA-Z0-9-.]+$)\")\n",
    "string = \"a@a.com\"\n",
    "\n",
    "a = pattern.search(string)\n",
    "\n",
    "print(a)"
   ]
  },
  {
   "cell_type": "markdown",
   "metadata": {},
   "source": [
    "## Exercise: Password Validation"
   ]
  },
  {
   "cell_type": "code",
   "execution_count": null,
   "metadata": {},
   "outputs": [],
   "source": [
    "# At least 8 char long\n",
    "# contain any sort letters, numbers, $%#@\n",
    "\n",
    "import re\n",
    "\n",
    "pattern = re.compile(r\"[A-Za-z0-9$%#@]{8,}\")\n",
    "string = \"#2SV2$zD1\"\n",
    "\n",
    "a = pattern.fullmatch(string)\n",
    "\n",
    "print(a)"
   ]
  },
  {
   "cell_type": "markdown",
   "metadata": {},
   "source": [
    "## Exercise: Password Validation 2"
   ]
  },
  {
   "cell_type": "code",
   "execution_count": null,
   "metadata": {},
   "outputs": [],
   "source": [
    "# At least 8 char long\n",
    "# contain any sort letters, numbers, $%#@\n",
    "# password has to end with a number\n",
    "\n",
    "import re\n",
    "\n",
    "pattern = re.compile(r\"[A-Za-z0-9$%#@]{8,}[0-9]$\")\n",
    "string = \"#2SV2$zD1\"\n",
    "string2 = \"#2SV2$zDa\"\n",
    "\n",
    "a = pattern.fullmatch(string)\n",
    "b = pattern.fullmatch(string2)\n",
    "\n",
    "print(a)\n",
    "print(b)"
   ]
  }
 ],
 "metadata": {
  "interpreter": {
   "hash": "a23238b22d0e83c1704f993aada4b11b330ee1fc6ea5fc3a1c4c03d39a35b23d"
  },
  "kernelspec": {
   "display_name": "Python 3.10.2 64-bit",
   "language": "python",
   "name": "python3"
  },
  "language_info": {
   "codemirror_mode": {
    "name": "ipython",
    "version": 3
   },
   "file_extension": ".py",
   "mimetype": "text/x-python",
   "name": "python",
   "nbconvert_exporter": "python",
   "pygments_lexer": "ipython3",
   "version": "3.10.2"
  },
  "orig_nbformat": 4
 },
 "nbformat": 4,
 "nbformat_minor": 2
}
