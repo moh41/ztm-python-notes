{
 "cells": [
  {
   "cell_type": "markdown",
   "metadata": {},
   "source": [
    "# Testing In Python"
   ]
  },
  {
   "cell_type": "markdown",
   "metadata": {},
   "source": [
    "## Testing Introduction"
   ]
  },
  {
   "cell_type": "markdown",
   "metadata": {},
   "source": [
    "With so many programmers on the same project, the code becomes more complex and harder to maintain and debug, testing is our solution. **Testing** is a method in software development where individual units of source code are tested to ensure they are working as intended. Testing helps us become better developers.\n",
    "\n",
    "We can create a test file to test our code.\n",
    "\n",
    "We can use pylint to debug and lint our code, and there's also PEP 8 which is the standard style guide for Python. These only get you so far. Testing allows you to check even more of your code.\n",
    "\n",
    "There's a built-in module called `unittest` which can help us test our code."
   ]
  },
  {
   "cell_type": "markdown",
   "metadata": {},
   "source": [
    "## Unittest"
   ]
  },
  {
   "cell_type": "markdown",
   "metadata": {},
   "source": [
    "[Here is the `unittest` module documentation.](https://docs.python.org/3/library/unittest.html)"
   ]
  },
  {
   "cell_type": "markdown",
   "metadata": {},
   "source": [
    "## Writing Unit Tests"
   ]
  },
  {
   "cell_type": "markdown",
   "metadata": {},
   "source": [
    "The following is an example of a main file and a test file.\n",
    "\n",
    "`main.py`\n",
    "\n",
    "```python\n",
    "def do_stuff(num=0):\n",
    "    try:\n",
    "        if num:\n",
    "            return int(num) + 5\n",
    "        else:\n",
    "            return 'please enter number'\n",
    "    except ValueError as e:\n",
    "        return e\n",
    "```\n",
    "\n",
    "`test.py`\n",
    "\n",
    "```python\n",
    "import unittest\n",
    "import main\n",
    "\n",
    "class TestMain(unittest.TestCase):\n",
    "    def setUp(self):\n",
    "        print('about to run a test')\n",
    "    \n",
    "    def test_do_stuff(self):\n",
    "        '''FIRST TEST!!!'''\n",
    "        test_param = 10\n",
    "        result =  main.do_stuff(test_param)\n",
    "        self.assertEqual(result, 15)\n",
    "    \n",
    "    def test_do_stuff2(self):\n",
    "        '''NEXT TEST!!!'''\n",
    "        test_param = 'sfjlksd'\n",
    "        result  = main.do_stuff(test_param)\n",
    "        self.assertIsInstance(result, ValueError)\n",
    "    \n",
    "    def test_do_stuff3(self):\n",
    "        test_param = None\n",
    "        result = main.do_stuff(test_param)\n",
    "        self.assertEqual(result, 'please enter number')\n",
    "    \n",
    "    def test_do_stuff4(self):\n",
    "        test_param = ''\n",
    "        result = main.do_stuff(test_param)\n",
    "        self.assertEqual(result, 'please enter number')\n",
    "    \n",
    "    def test_do_stuff5(self):\n",
    "        test_param = 0\n",
    "        result = main.do_stuff(test_param)\n",
    "        self.assertEqual(result, 'please enter number')\n",
    "\n",
    "    def tearDown(self):\n",
    "        print('cleaning up')\n",
    "\n",
    "if __name__ == '__main__':\n",
    "    unittest.main()\n",
    "```"
   ]
  },
  {
   "cell_type": "markdown",
   "metadata": {},
   "source": [
    "## Writing Unit Tests 2"
   ]
  },
  {
   "cell_type": "markdown",
   "metadata": {},
   "source": [
    "Writing `python -m unittest` will run all the test files.\n",
    "\n",
    "Using `python -m unittest -v` will run the verbose version of tests. It will also show docstrings of test methods.\n",
    "\n",
    "`def setUp(self):` is a method that is run before each test.\n",
    "\n",
    "`def tearDown(self):` is a method that is run after each test."
   ]
  },
  {
   "cell_type": "markdown",
   "metadata": {},
   "source": [
    "## Exercise: Testing"
   ]
  },
  {
   "cell_type": "markdown",
   "metadata": {},
   "source": [
    "Check out the code in the `exercise_testing` directory."
   ]
  }
 ],
 "metadata": {
  "interpreter": {
   "hash": "a23238b22d0e83c1704f993aada4b11b330ee1fc6ea5fc3a1c4c03d39a35b23d"
  },
  "kernelspec": {
   "display_name": "Python 3.10.2 64-bit",
   "language": "python",
   "name": "python3"
  },
  "language_info": {
   "codemirror_mode": {
    "name": "ipython",
    "version": 3
   },
   "file_extension": ".py",
   "mimetype": "text/x-python",
   "name": "python",
   "nbconvert_exporter": "python",
   "pygments_lexer": "ipython3",
   "version": "3.10.2"
  },
  "orig_nbformat": 4
 },
 "nbformat": 4,
 "nbformat_minor": 2
}
