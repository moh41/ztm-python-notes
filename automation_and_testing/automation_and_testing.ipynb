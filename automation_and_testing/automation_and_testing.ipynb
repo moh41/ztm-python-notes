{
 "cells": [
  {
   "cell_type": "markdown",
   "metadata": {},
   "source": [
    "# Automation/Testing"
   ]
  },
  {
   "cell_type": "markdown",
   "metadata": {},
   "source": [
    "## Section Overview"
   ]
  },
  {
   "cell_type": "markdown",
   "metadata": {},
   "source": [
    "We need to test and automate apps, mimicing human actions with software. Instead of hiring many people to test an app, we can automate/test with Python."
   ]
  },
  {
   "cell_type": "markdown",
   "metadata": {},
   "source": [
    "## Selenium Introduction"
   ]
  },
  {
   "cell_type": "markdown",
   "metadata": {},
   "source": [
    "One of the best tools for browser automation is Selenium. Selenium is a Python library that allows us to automate browser interactions. Selenium works with drivers to interface with different browsers."
   ]
  },
  {
   "cell_type": "markdown",
   "metadata": {},
   "source": [
    "## Selenium Basics"
   ]
  },
  {
   "cell_type": "markdown",
   "metadata": {},
   "source": [
    "Here's some useful resources for working with Selenium in Python:\n",
    "\n",
    "- [Selenium Python Docs](https://selenium-python.readthedocs.io/)\n",
    "- [Selenium Easy Demo](https://demo.seleniumeasy.com/)\n",
    "- [Python Selenium Cheat Sheet](http://allselenium.info/python-selenium-commands-cheat-sheet-frequently-used/)\n",
    "\n",
    "Many websites will detect whether or not you're using a bot and block you from accessing their site. Selenium has Waits which allow us to have pauses between actions."
   ]
  }
 ],
 "metadata": {
  "language_info": {
   "name": "python"
  },
  "orig_nbformat": 4
 },
 "nbformat": 4,
 "nbformat_minor": 2
}
