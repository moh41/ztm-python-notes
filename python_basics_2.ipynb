{
 "cells": [
  {
   "cell_type": "markdown",
   "metadata": {},
   "source": [
    "# Python Basics 2"
   ]
  },
  {
   "cell_type": "markdown",
   "metadata": {},
   "source": [
    "## Breaking the Flow"
   ]
  },
  {
   "cell_type": "markdown",
   "metadata": {},
   "source": [
    "We're going to talk about conditions, conditional logic, looping, and more that machines can perform very efficiently."
   ]
  },
  {
   "cell_type": "markdown",
   "metadata": {},
   "source": [
    "## Conditional Logic"
   ]
  },
  {
   "cell_type": "markdown",
   "metadata": {},
   "source": [
    "Booleans have `True` and `False` values. When it comes to logic, booleans are really important."
   ]
  },
  {
   "cell_type": "markdown",
   "metadata": {},
   "source": [
    "We can use `if` statements to check if a condition is true or false. We also have `elif` and `else` statements. This allows us to conditionally run code based on an expression's value.\n",
    "\n",
    "We can also use keywords like `and` and `or` to combine conditions."
   ]
  },
  {
   "cell_type": "code",
   "execution_count": null,
   "metadata": {},
   "outputs": [],
   "source": [
    "is_old = True\n",
    "is_licensed = True\n",
    "\n",
    "if is_old and is_licensed:\n",
    "    print('You are old enough to drive, and you have a license!')\n",
    "elif is_old and not is_licensed:\n",
    "    print('You are old enough to drive, but you do not have a license.')\n",
    "elif not is_old and is_licensed:\n",
    "    print('You are not old enough to drive, but you have a license.')\n",
    "else:\n",
    "    print('You are not old enough to drive!')\n",
    "\n",
    "print('Nice to meet you!')"
   ]
  },
  {
   "cell_type": "markdown",
   "metadata": {},
   "source": [
    "## Indentation in Python"
   ]
  },
  {
   "cell_type": "markdown",
   "metadata": {},
   "source": [
    "In many other languages, curly brackets {} are used to indicate a block of code. Python's indentation is important. This allows the interpreter to understand what code is inside of a block of code. In Python, we use indentation to indicate a block of code. Don't fight about whether you use spaces or tabs."
   ]
  },
  {
   "cell_type": "markdown",
   "metadata": {},
   "source": [
    "## Truthy vs Falsey"
   ]
  },
  {
   "cell_type": "markdown",
   "metadata": {},
   "source": [
    "Values are converted into booleans when being evaluated in an `if` statement. You can check the conditional values of variables and objects in Python using `bool`. `''` and `0` are both falsey in Python.\n",
    "\n",
    "Falsey values in Python:\n",
    "\n",
    "- `None`\n",
    "- `False`\n",
    "- `0`\n",
    "- `0.0`\n",
    "- `0j`\n",
    "- `decimal.Decimal(0)`\n",
    "- `fraction.Fraction(0, 1)`\n",
    "- `[]` - an empty list\n",
    "- `{}` - an empty dict\n",
    "- `()` - an empty tuple\n",
    "- `''` - an empty str\n",
    "- `b''` - an empty bytes\n",
    "- `set()` - an empty set\n",
    "- an empty range, like `range(0)`"
   ]
  },
  {
   "cell_type": "code",
   "execution_count": null,
   "metadata": {},
   "outputs": [],
   "source": [
    "password = '123'\n",
    "username = 'johnny'\n",
    "\n",
    "# Truthy and Falsey\n",
    "if password and username:\n",
    "    print(\"You've entered a valid username and password that are not empty!\")"
   ]
  },
  {
   "cell_type": "markdown",
   "metadata": {},
   "source": [
    "## Ternary Operator"
   ]
  },
  {
   "cell_type": "markdown",
   "metadata": {},
   "source": [
    "The **Ternary Operator** is the same as `if` and `elif` and `else` but in a different way, and is also called a **conditional expression**."
   ]
  },
  {
   "cell_type": "code",
   "execution_count": null,
   "metadata": {},
   "outputs": [],
   "source": [
    "# Ternary Operator\n",
    "\n",
    "# true_or_false_condition if value_if_true else value_if_false\n",
    "\n",
    "is_friend = True\n",
    "can_message = \"message allowed\" if is_friend else \"not allowed\"\n",
    "print(can_message)"
   ]
  },
  {
   "cell_type": "markdown",
   "metadata": {},
   "source": [
    "## Short Circuiting"
   ]
  },
  {
   "cell_type": "markdown",
   "metadata": {},
   "source": [
    "For the `or` operator, if any one of the values is truthy, the whole expression is evaluated as truthy and short circuited so that we don't need to evaluated the other parts of the expression at all. This improves efficiency."
   ]
  },
  {
   "cell_type": "code",
   "execution_count": null,
   "metadata": {},
   "outputs": [],
   "source": [
    "# Short Circuiting\n",
    "\n",
    "is_Friend = True\n",
    "is_User = True\n",
    "\n",
    "if is_Friend and is_User:\n",
    "    print(\"You're a friend and a user! So both!\")\n",
    "if is_friend or is_User:\n",
    "    print(\"Are you a friend or a user? Or both?!\")\n"
   ]
  },
  {
   "cell_type": "markdown",
   "metadata": {},
   "source": [
    "## Logical Operators"
   ]
  },
  {
   "cell_type": "markdown",
   "metadata": {},
   "source": [
    "- `and`\n",
    "- `or`\n",
    "- `not`\n",
    "- `>`\n",
    "- `<`\n",
    "- `>=`\n",
    "- `<=`\n",
    "- `==` - Remember that `=` is assignment, so we use `==` to compare values.\n",
    "- `!=`"
   ]
  },
  {
   "cell_type": "code",
   "execution_count": null,
   "metadata": {},
   "outputs": [],
   "source": [
    "# Logical Operators\n",
    "\n",
    "print(4 > 5)\n",
    "print(4 < 5)\n",
    "print(4 == 5)\n",
    "print(4 != 5)\n",
    "print('a' > 'b')\n",
    "print('a' > 'A')\n",
    "print(1 < 2 < 3 < 4)\n",
    "print(1 < 2 > 3 < 4)\n",
    "print(0 >= 1)\n",
    "print(2 <= 1)\n",
    "print(not True)\n",
    "print(not(1 == 1))"
   ]
  },
  {
   "cell_type": "markdown",
   "metadata": {},
   "source": [
    "## Exercise: Logical Operators"
   ]
  },
  {
   "cell_type": "markdown",
   "metadata": {},
   "source": [
    "The idea is not to be extremely clever, but rather to be able to understand the logic of the code and make it readable like English.\n",
    "\n",
    "**Focus on *readability***. Keep it simple and nice."
   ]
  },
  {
   "cell_type": "code",
   "execution_count": null,
   "metadata": {},
   "outputs": [],
   "source": [
    "is_chef = True\n",
    "is_pro = True\n",
    "\n",
    "# Check if chef AND pro: \"You are a pro chef!\"\n",
    "if is_chef and is_pro:\n",
    "    print(\"You are a pro chef!\")\n",
    "# Check if chef but not pro: \"At least you're getting there!\"\n",
    "elif is_chef and not is_pro:\n",
    "    print(\"At least you're getting there!\")\n",
    "# If you're not a chef: \"You need to learn how to cook!\"\n",
    "elif not is_chef:\n",
    "    print(\"You need to learn how to cook!\")"
   ]
  },
  {
   "cell_type": "markdown",
   "metadata": {},
   "source": [
    "## `is` vs `==`"
   ]
  },
  {
   "cell_type": "markdown",
   "metadata": {},
   "source": [
    "The `==` checks for equality of value. `is` checks for equality of reference (the location in memory where the value is stored)."
   ]
  },
  {
   "cell_type": "code",
   "execution_count": null,
   "metadata": {},
   "outputs": [],
   "source": [
    "print(True == 1)\n",
    "print('' == 1)\n",
    "print([] == 1)\n",
    "print(10 == 10.0)\n",
    "print([] == [])\n",
    "print('---')\n",
    "print(True is 1)\n",
    "print('' is 1)\n",
    "print([] is 1)\n",
    "print(10 is 10.0)\n",
    "print([] is [])\n",
    "a = [1,2,3]\n",
    "b = [1,2,3]\n",
    "print(a is b)\n",
    "print(a == b)"
   ]
  },
  {
   "cell_type": "markdown",
   "metadata": {},
   "source": [
    "## For Loops"
   ]
  },
  {
   "cell_type": "markdown",
   "metadata": {},
   "source": [
    "**Loops** allow us to run lines of code over and over again. Machines excel at repeating tasks/code.\n",
    "\n",
    "In a Python `for` loop, we create a variable for each value in an Iterable."
   ]
  },
  {
   "cell_type": "code",
   "execution_count": null,
   "metadata": {},
   "outputs": [],
   "source": [
    "# for item in 'Zero to Mastery':\n",
    "#     print(item)\n",
    "\n",
    "# # for number in [1,2,3]:\n",
    "# #     print(number)\n",
    "\n",
    "# # for value in (1,2,3,4,5):\n",
    "# #     print(value)\n",
    "\n",
    "# print('---')\n",
    "# print(item)\n",
    "# print(number)\n",
    "# print(value)\n",
    "\n",
    "# print('---')\n",
    "for item in (1,2,3,4,5):\n",
    "    for x in ['a', 'b', 'c']:\n",
    "        print(item, x)"
   ]
  },
  {
   "cell_type": "markdown",
   "metadata": {},
   "source": [
    "## Iterables"
   ]
  },
  {
   "cell_type": "markdown",
   "metadata": {},
   "source": [
    "An **iterable** is an object or a collection (of items) that can be iterated (we can go one by one to check each item) over.\n",
    "\n",
    "Iterables in Python include:\n",
    "\n",
    "- Lists `[]`\n",
    "- Dictionaries `{}`\n",
    "- Tuples `()`\n",
    "- Sets `{}`\n",
    "- Strings `''`"
   ]
  },
  {
   "cell_type": "code",
   "execution_count": null,
   "metadata": {},
   "outputs": [],
   "source": [
    "user = {\n",
    "    \"name\": 'Golem',\n",
    "    \"age\": 5006,\n",
    "    \"can_swim\": False\n",
    "}\n",
    "\n",
    "for item in user:\n",
    "    print(item)\n",
    "print('---')\n",
    "for key, value in user.items():\n",
    "    print(key, value)\n",
    "print('---')\n",
    "for item in user.keys():\n",
    "    print(item)\n",
    "print('---')\n",
    "for item in user.values():\n",
    "    print(item)"
   ]
  },
  {
   "cell_type": "markdown",
   "metadata": {},
   "source": [
    "## Exercise: Tricky Counter"
   ]
  },
  {
   "cell_type": "code",
   "execution_count": null,
   "metadata": {},
   "outputs": [],
   "source": [
    "# Counter\n",
    "my_list = [1,2,3,4,5,6,7,8,9,10]\n",
    "\n",
    "counter = 0\n",
    "for value in my_list:\n",
    "    counter += value\n",
    "\n",
    "print(counter)"
   ]
  },
  {
   "cell_type": "markdown",
   "metadata": {},
   "source": [
    "## `range()`"
   ]
  },
  {
   "cell_type": "code",
   "execution_count": null,
   "metadata": {},
   "outputs": [],
   "source": [
    "print(range(100)) # Notice it's an object\n",
    "\n",
    "for _ in range(0, 10, 2):\n",
    "    print(_)\n",
    "print('---')\n",
    "for _ in range(10, 0, -2):\n",
    "    print(_)\n",
    "for _ in range(2):\n",
    "    print(list(range(10)))"
   ]
  },
  {
   "cell_type": "markdown",
   "metadata": {},
   "source": [
    "## `enumerate()`"
   ]
  },
  {
   "cell_type": "markdown",
   "metadata": {},
   "source": [
    "Useful if you need the index of the item in the list."
   ]
  },
  {
   "cell_type": "code",
   "execution_count": null,
   "metadata": {},
   "outputs": [],
   "source": [
    "for i, char in enumerate('Hello!'):\n",
    "    print(i, char)\n",
    "\n",
    "for i, char in enumerate(list(range(100))):\n",
    "    if char == 50:\n",
    "        print(f\"The index of 50 is: {i}\")"
   ]
  },
  {
   "cell_type": "markdown",
   "metadata": {},
   "source": [
    "## While Loops"
   ]
  },
  {
   "cell_type": "code",
   "execution_count": null,
   "metadata": {},
   "outputs": [],
   "source": [
    "i = 0\n",
    "while i < 5:\n",
    "    print(i)\n",
    "    i += 1\n",
    "else:\n",
    "    print('i is no longer less than 5')\n",
    "print('---')\n",
    "while i < 10:\n",
    "    print(i)\n",
    "    break\n",
    "else:\n",
    "    print(\"Cool\")"
   ]
  },
  {
   "cell_type": "markdown",
   "metadata": {},
   "source": [
    "## While Loops 2"
   ]
  },
  {
   "cell_type": "markdown",
   "metadata": {},
   "source": [
    "For simple loops or iterating over iterable objects, `for` loops are useful.\n",
    "If we're not sure how long a condition will last, `while` loops are useful."
   ]
  },
  {
   "cell_type": "code",
   "execution_count": null,
   "metadata": {},
   "outputs": [],
   "source": [
    "my_list = [1,2,3]\n",
    "for item in my_list:\n",
    "    print(item)\n",
    "\n",
    "i = 0\n",
    "while i < len(my_list):\n",
    "    print(my_list[i])\n",
    "    i += 1\n",
    "\n",
    "while True:\n",
    "    response = input('Say something:')\n",
    "    if response == \"bye\":\n",
    "        break"
   ]
  },
  {
   "cell_type": "markdown",
   "metadata": {},
   "source": [
    "## `break`, `continue`, `pass`"
   ]
  },
  {
   "cell_type": "markdown",
   "metadata": {},
   "source": [
    "- `break` exits the loop immediately.\n",
    "- `continue` goes to the next iteration of the loop.\n",
    "- `pass` is a placeholder for code that we don't want to run. Can be good for empty functions that will be implemented later."
   ]
  },
  {
   "cell_type": "code",
   "execution_count": null,
   "metadata": {},
   "outputs": [],
   "source": [
    "my_list = [1,2,3]\n",
    "print(\"Output 1:\")\n",
    "for item in my_list:\n",
    "    continue\n",
    "    print(item)\n",
    "\n",
    "print(\"Output 2:\")\n",
    "i = 0\n",
    "while i < len(my_list):\n",
    "    pass\n",
    "    print(my_list[i])\n",
    "    pass\n",
    "    pass\n",
    "    pass\n",
    "    pass\n",
    "    i += 1"
   ]
  },
  {
   "cell_type": "markdown",
   "metadata": {},
   "source": [
    "## Our First GUI"
   ]
  },
  {
   "cell_type": "code",
   "execution_count": null,
   "metadata": {},
   "outputs": [],
   "source": [
    "# Exercise!\n",
    "\n",
    "# Everytime we encounter a 0, show a ' '.\n",
    "# Everytime we encounter a 1, show a *.\n",
    "\n",
    "picture = [\n",
    "    [0,0,0,1,0,0,0],\n",
    "    [0,0,1,1,1,0,0],\n",
    "    [0,1,1,1,1,1,0],\n",
    "    [1,1,1,1,1,1,1],\n",
    "    [0,1,1,1,1,1,0],\n",
    "    [0,0,1,1,1,0,0],\n",
    "    [0,0,0,1,0,0,0]\n",
    "]\n",
    "\n",
    "for row in picture:\n",
    "    for value in row:\n",
    "        if value == 0:\n",
    "            print(' ', end='')\n",
    "        else:\n",
    "            print('^', end='')\n",
    "    print(\"\")"
   ]
  },
  {
   "cell_type": "markdown",
   "metadata": {},
   "source": [
    "## Developer Fundamentals: IV"
   ]
  },
  {
   "cell_type": "markdown",
   "metadata": {},
   "source": [
    "What is good code?\n",
    "\n",
    "- **Clean**: Are we following best standards? Make sure our lines are easily readable and there's no extra/unnecessary code.\n",
    "- **Readability**: Is our code easy to understand? Use meaningful variable names and comments.\n",
    "- **Predictability**: Don't focus on being clever, but make sure our code is predictable.\n",
    "- **DRY**: Don't Repeat Yourself. Don't write the same code over and over again."
   ]
  },
  {
   "cell_type": "markdown",
   "metadata": {},
   "source": [
    "## Exercise: Find Duplicates"
   ]
  },
  {
   "cell_type": "code",
   "execution_count": null,
   "metadata": {},
   "outputs": [],
   "source": [
    "# Exercise: Check for duplicates in a list:\n",
    "\n",
    "some_list = ['a', 'b', 'c', 'b', 'd', 'm', 'n', 'n']\n",
    "duplicates = []\n",
    "\n",
    "for char in some_list:\n",
    "    if some_list.count(char) > 1 and char not in duplicates:\n",
    "        duplicates.append(char)\n",
    "\n",
    "print(duplicates)"
   ]
  },
  {
   "cell_type": "markdown",
   "metadata": {},
   "source": [
    "## Functions"
   ]
  },
  {
   "cell_type": "markdown",
   "metadata": {},
   "source": [
    "A **function** allows us to perform actions.\n",
    "\n",
    "We're able to create our own functions. Functions are really useful for reusing code, and therefore helps keep our code DRY (Don't Repeat Yourself).\n",
    "\n",
    "Functions are stored in memory as an object.\n",
    "\n",
    "In Python, we must define functions before calling them."
   ]
  },
  {
   "cell_type": "code",
   "execution_count": null,
   "metadata": {},
   "outputs": [],
   "source": [
    "def say_hello():\n",
    "    print(\"Hello!\")\n",
    "\n",
    "say_hello()\n",
    "print('---')\n",
    "for x in range(5):\n",
    "    say_hello()"
   ]
  },
  {
   "cell_type": "markdown",
   "metadata": {},
   "source": [
    "## Parameters and Arguments"
   ]
  },
  {
   "cell_type": "markdown",
   "metadata": {},
   "source": [
    "Functions can be dynamic with parameters. Parameters allow us to give our functions arguments.\n",
    "\n",
    "Parameters are used when we define the function. Arguments are used as the actual values we pass to the function (when we call the function)."
   ]
  },
  {
   "cell_type": "code",
   "execution_count": null,
   "metadata": {},
   "outputs": [],
   "source": [
    "# parameters\n",
    "def say_hello(name): # name is a parameter\n",
    "    print(f\"Hello {name}!\")\n",
    "\n",
    "# arguments\n",
    "say_hello('Golem') # 'Golem' is an argument"
   ]
  },
  {
   "cell_type": "markdown",
   "metadata": {},
   "source": [
    "## Default Parameters and Keyword Arguments"
   ]
  },
  {
   "cell_type": "markdown",
   "metadata": {},
   "source": [
    "Positional arguments are arguments that require being in a proper position.\n",
    "\n",
    "Keyword arguments do not need to be in a specific position. Keyword arguments are not default parameters.\n",
    "\n",
    "Default parameters allow us to give default values to parameters."
   ]
  },
  {
   "cell_type": "code",
   "execution_count": null,
   "metadata": {},
   "outputs": [],
   "source": [
    "def say_hello(name='John', emoji='🤖'):\n",
    "    print(f'Hello {name}! {emoji}')\n",
    "\n",
    "say_hello('Adam', '😎') # Uses positional arguments\n",
    "say_hello(name='Golem', emoji='🚀') # Uses keyword arguments\n",
    "say_hello() # Uses default parameters"
   ]
  },
  {
   "cell_type": "markdown",
   "metadata": {},
   "source": [
    "## `return`"
   ]
  },
  {
   "cell_type": "markdown",
   "metadata": {},
   "source": [
    "`return` is a keyword in Python. It allows us to return a value from a function. Functions usually return a value, otherwise they return `None`.\n",
    "\n",
    "Functions can:\n",
    "\n",
    "1. Return something like a value\n",
    "2. Return nothing, can modify a value (side effect)\n",
    "\n",
    "In general, functions should:\n",
    "\n",
    "1. Do one thing reallly well.\n",
    "2. Return something.\n",
    "\n",
    "We can assign the return value to a variable."
   ]
  },
  {
   "cell_type": "code",
   "execution_count": null,
   "metadata": {},
   "outputs": [],
   "source": [
    "def sum(num1, num2):\n",
    "    return num1 + num2\n",
    "\n",
    "total = sum(10, 5)\n",
    "print(sum(10, total))"
   ]
  },
  {
   "cell_type": "markdown",
   "metadata": {},
   "source": [
    "## Exercise: Tesla"
   ]
  },
  {
   "cell_type": "code",
   "execution_count": null,
   "metadata": {},
   "outputs": [],
   "source": [
    "\n",
    "def checkDriverAge(age=0):\n",
    "    if int(age) < 18:\n",
    "        print(\"Sorry, you are too young to drive this car. Powering off\")\n",
    "    elif int(age) > 18:\n",
    "        print(\"Powering On. Enjoy the ride!\")\n",
    "    elif int(age) == 18:\n",
    "        print(\"Congratulations on your first year of driving. Enjoy the ride!\")\n",
    "\n",
    "checkDriverAge(92)\n",
    "checkDriverAge()"
   ]
  },
  {
   "cell_type": "markdown",
   "metadata": {},
   "source": [
    "## Methods vs Functions"
   ]
  },
  {
   "cell_type": "markdown",
   "metadata": {},
   "source": [
    "Methods are functions that are associated with a class. Methods are built-in objects that are owned by an object. Often they are used by referring to an Object followed by a dot `.` operator."
   ]
  },
  {
   "cell_type": "code",
   "execution_count": null,
   "metadata": {},
   "outputs": [],
   "source": [
    "# Methods vs Functions\n",
    "\n",
    "# Functions\n",
    "list()\n",
    "print()\n",
    "max()\n",
    "min()\n",
    "input()\n",
    "\n",
    "def some_random_stuff():\n",
    "    pass\n",
    "\n",
    "some_random_stuff()\n",
    "\n",
    "# Methods\n",
    "\n",
    "'hello'.capitalize()"
   ]
  },
  {
   "cell_type": "markdown",
   "metadata": {},
   "source": [
    "## Docstrings"
   ]
  },
  {
   "cell_type": "markdown",
   "metadata": {},
   "source": [
    "Docstrings are useful to add comments/definitions to your functions. In Python, we use triple quotes `'''` to define a docstring."
   ]
  },
  {
   "cell_type": "code",
   "execution_count": null,
   "metadata": {},
   "outputs": [],
   "source": [
    "def test(a):\n",
    "    '''\n",
    "    Info: this function tests and prints param a\n",
    "    '''\n",
    "    print(a)\n",
    "\n",
    "test('hello')\n",
    "print('---')\n",
    "help(test)\n",
    "print('---')\n",
    "print(test.__doc__)"
   ]
  },
  {
   "cell_type": "markdown",
   "metadata": {},
   "source": [
    "## Clean Code"
   ]
  },
  {
   "cell_type": "code",
   "execution_count": null,
   "metadata": {},
   "outputs": [],
   "source": [
    "# Clean Code\n",
    "\n",
    "# V1\n",
    "def is_even1(num):\n",
    "    if num % 2 == 0:\n",
    "        return True\n",
    "    elif num % 2 != 0:\n",
    "        return False\n",
    "\n",
    "# V2\n",
    "def is_even2(num):\n",
    "    if num % 2 == 0:\n",
    "        return True\n",
    "    return False\n",
    "\n",
    "# V3\n",
    "def is_even3(num):\n",
    "    return num % 2 == 0\n",
    "\n",
    "print(is_even1(51))\n",
    "print(is_even2(51))\n",
    "print(is_even3(51))"
   ]
  },
  {
   "cell_type": "markdown",
   "metadata": {},
   "source": [
    "## `*args` and `**kwargs`"
   ]
  },
  {
   "cell_type": "markdown",
   "metadata": {},
   "source": [
    "With `*args`, we've added a star to the parameter name. This means that we can pass any number of arguments to the function and use the `args` variable as a tuple. `**kwargs` allow us to use keyword arguments and we can use the `kwargs` variable as a dictionary."
   ]
  },
  {
   "cell_type": "code",
   "execution_count": null,
   "metadata": {},
   "outputs": [],
   "source": [
    "# *args, **kwargs\n",
    "\n",
    "def super_func(name, *args, i='hi', **kwargs):\n",
    "    print(*args)\n",
    "    print(kwargs)\n",
    "    print(args)\n",
    "    print(name, i)\n",
    "    total = 0\n",
    "    for items in kwargs.values():\n",
    "        total += items\n",
    "    return sum(args) + total\n",
    "\n",
    "super_func('Aaron', 1, 2, 3, 4, 5, num1=5, num2=10)\n",
    "\n",
    "# Rule: params, *args, default parameters, **kwargs"
   ]
  },
  {
   "cell_type": "markdown",
   "metadata": {},
   "source": [
    "## Exercise: Functions"
   ]
  },
  {
   "cell_type": "code",
   "execution_count": null,
   "metadata": {},
   "outputs": [],
   "source": [
    "# Assumes there is at least one value in the list\n",
    "def highest_even(li):\n",
    "    largest = li[0]\n",
    "    for num in li:\n",
    "        if num % 2 == 0 and num > largest:\n",
    "            largest = num\n",
    "    return largest if largest % 2 == 0 else None\n",
    "\n",
    "# Instructor answer\n",
    "def highest_even_answer(li):\n",
    "    evens = []\n",
    "    for item in li:\n",
    "        if item % 2 == 0:\n",
    "            evens.append(item)\n",
    "    return max(evens) if evens else None\n",
    "\n",
    "print(highest_even([10, 2, 3, 4, 8, 11]))"
   ]
  },
  {
   "cell_type": "markdown",
   "metadata": {},
   "source": [
    "## Walrus Operator"
   ]
  },
  {
   "cell_type": "markdown",
   "metadata": {},
   "source": [
    "The walrus operator `:=` allows us to assign values to variables as part of a longer expression (like within `if`/`for`/`while` loop statements)."
   ]
  },
  {
   "cell_type": "code",
   "execution_count": null,
   "metadata": {},
   "outputs": [],
   "source": [
    "a = 'Hello!!!!!!!!!'\n",
    "\n",
    "# if len(a) > 10:\n",
    "#     print(f'Too long, {len(a)} elements')\n",
    "\n",
    "\n",
    "if ((n := len(a)) > 10):\n",
    "    print(f'Too long, {n} elements')\n",
    "\n",
    "while ((n := len(a)) > 1):\n",
    "    print(n)\n",
    "    a = a[:-1]\n",
    "\n",
    "print(a)"
   ]
  },
  {
   "cell_type": "markdown",
   "metadata": {},
   "source": [
    "## Scope"
   ]
  },
  {
   "cell_type": "markdown",
   "metadata": {},
   "source": [
    "**Scope** simply means (to ask) what variables do I have access to?"
   ]
  },
  {
   "cell_type": "code",
   "execution_count": null,
   "metadata": {},
   "outputs": [],
   "source": [
    "# Scope - what variables do I have access to?\n",
    "# print(name()) # NameError: name 'name' is not defined\n",
    "\n",
    "total = 100 # Has global scope\n",
    "\n",
    "def some_func():\n",
    "    potato = 10 # Has local scope\n",
    "\n",
    "# print(potato) # NameError: name 'potato' is not defined"
   ]
  },
  {
   "cell_type": "markdown",
   "metadata": {},
   "source": [
    "## Scope Rules"
   ]
  },
  {
   "cell_type": "markdown",
   "metadata": {},
   "source": [
    "Python scope goes through the following order, like for when identifying what variables to use:\n",
    "\n",
    "1. Local scope\n",
    "2. Parent local scope\n",
    "3. Global scope\n",
    "4. Built in Python functions"
   ]
  },
  {
   "cell_type": "code",
   "execution_count": null,
   "metadata": {},
   "outputs": [],
   "source": [
    "a = 1\n",
    "\n",
    "def confusion():\n",
    "    a = 5\n",
    "    return a\n",
    "\n",
    "print(a)\n",
    "print(confusion())\n",
    "\n",
    "def parent():\n",
    "    a = 10\n",
    "    def confusion():\n",
    "        return a\n",
    "    return confusion()\n",
    "\n",
    "print(parent())\n",
    "print(a)\n",
    "\n",
    "# Rules:\n",
    "# 1 - Local scope\n",
    "# 2 - Parent local scope\n",
    "# 3 - Global scope\n",
    "# 4 - Built in Python functions"
   ]
  },
  {
   "cell_type": "markdown",
   "metadata": {},
   "source": [
    "## `global` Keyword"
   ]
  },
  {
   "cell_type": "markdown",
   "metadata": {},
   "source": [
    "Parameters are considered local variables in their functions. The `global` keyword allows us to use a variable from outside of a function. However, a better way of doing this may be dependency injection."
   ]
  },
  {
   "cell_type": "code",
   "execution_count": null,
   "metadata": {},
   "outputs": [],
   "source": [
    "a = 10\n",
    "def confusion(b):\n",
    "    print(b)\n",
    "    a = 90\n",
    "\n",
    "confusion(300)\n",
    "\n",
    "total = 0\n",
    "\n",
    "def counter_program():\n",
    "    global total\n",
    "    total += 1\n",
    "    return total\n",
    "\n",
    "def counter_program2(total):\n",
    "    total += 1\n",
    "    return total\n",
    "\n",
    "print(counter_program2(counter_program2(counter_program2(total))))"
   ]
  },
  {
   "cell_type": "markdown",
   "metadata": {},
   "source": [
    "## `nonlocal` Keyword"
   ]
  },
  {
   "cell_type": "markdown",
   "metadata": {},
   "source": [
    "The `nonlocal` keyword allows us to use a variable from a parent function (any parent no matter how far, so long as it's not a global variable) but not from global scope."
   ]
  },
  {
   "cell_type": "code",
   "execution_count": null,
   "metadata": {},
   "outputs": [],
   "source": [
    "def outer():\n",
    "    x = \"local\"\n",
    "    def inner():\n",
    "        nonlocal x\n",
    "        x = \"nonlocal\"\n",
    "        print(\"inner:\", x)\n",
    "    inner()\n",
    "    print(\"outer:\", x)\n",
    "\n",
    "outer()"
   ]
  },
  {
   "cell_type": "markdown",
   "metadata": {},
   "source": [
    "## Why Do We Need Scope?"
   ]
  },
  {
   "cell_type": "markdown",
   "metadata": {},
   "source": [
    "Machines have limited resources, memory, and computational power. The Python garbage collectors removes the variables from functions you've finished using so that programs don't use up memory."
   ]
  }
 ],
 "metadata": {
  "interpreter": {
   "hash": "a23238b22d0e83c1704f993aada4b11b330ee1fc6ea5fc3a1c4c03d39a35b23d"
  },
  "kernelspec": {
   "display_name": "Python 3.10.2 64-bit",
   "language": "python",
   "name": "python3"
  },
  "language_info": {
   "codemirror_mode": {
    "name": "ipython",
    "version": 3
   },
   "file_extension": ".py",
   "mimetype": "text/x-python",
   "name": "python",
   "nbconvert_exporter": "python",
   "pygments_lexer": "ipython3",
   "version": "3.10.2"
  },
  "orig_nbformat": 4
 },
 "nbformat": 4,
 "nbformat_minor": 2
}
