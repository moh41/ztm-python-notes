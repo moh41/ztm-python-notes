{
 "cells": [
  {
   "cell_type": "markdown",
   "metadata": {},
   "source": [
    "# Error Handling"
   ]
  },
  {
   "cell_type": "markdown",
   "metadata": {},
   "source": [
    "## Errors in Python"
   ]
  },
  {
   "cell_type": "markdown",
   "metadata": {},
   "source": [
    "An error that crashes our program is called an an **exception**.\n",
    "\n",
    "Error handling allows us to let the Python script continue running even if there are errors. There's a lot of built-in exceptions in Python. Here's a few examples:\n",
    "\n",
    "---\n",
    "\n",
    "```python\n",
    "def jfkaljdklfj()\n",
    "    pass\n",
    "```\n",
    "\n",
    "```console\n",
    "SnytaxError: invalid syntax\n",
    "```\n",
    "\n",
    "---\n",
    "\n",
    "```python\n",
    "def sdfklsadjf():\n",
    "    1 + name\n",
    "```\n",
    "```console\n",
    "NameError: name 'name' is not defined\n",
    "```\n",
    "\n",
    "---\n",
    "\n",
    "```python\n",
    "def asndmd():\n",
    "    li = [1,2,3]\n",
    "    li[5]\n",
    "```\n",
    "```console\n",
    "IndexError: list index out of range\n",
    "```\n",
    "\n",
    "---\n",
    "\n",
    "```python\n",
    "def aslkjdfksaljdf():\n",
    "    di = {'a': 1}\n",
    "    di['b']\n",
    "```\n",
    "```console\n",
    "KeyError: 'b'\n",
    "```\n",
    "\n",
    "---\n",
    "\n",
    "```python\n",
    "def sdkfaslkf():\n",
    "    5/0\n",
    "```\n",
    "```console\n",
    "ZeroDivisionError: division by zero\n",
    "```\n",
    "\n",
    "---"
   ]
  },
  {
   "cell_type": "markdown",
   "metadata": {},
   "source": [
    "## Error Handling"
   ]
  },
  {
   "cell_type": "markdown",
   "metadata": {},
   "source": [
    "If there is any error in the `try` block, the `except` block will run. You can also specify the `except` block to run for a specific error. You can also specify an `else` block to run if there is no error. You can also specify a `finally` block to run regardless of whether there is an error or not."
   ]
  },
  {
   "cell_type": "code",
   "execution_count": null,
   "metadata": {},
   "outputs": [],
   "source": [
    "while True:\n",
    "    try:\n",
    "        age = int(input('What is your age? '))\n",
    "        10/age\n",
    "        print(age)\n",
    "    except ValueError:\n",
    "        print('Please enter a valid integer.')\n",
    "    except ValueError:\n",
    "        print('This one will not run! Only the first exception will be caught.')\n",
    "    except ZeroDivisionError:\n",
    "        print('Please enter an age higher than 0.')\n",
    "    else:\n",
    "        print('Thank you!')\n",
    "        break"
   ]
  },
  {
   "cell_type": "markdown",
   "metadata": {},
   "source": [
    "## Error Handling 2"
   ]
  },
  {
   "cell_type": "code",
   "execution_count": null,
   "metadata": {},
   "outputs": [],
   "source": [
    "def my_sum_function(num1, num2):\n",
    "    try:\n",
    "        num1 / num2\n",
    "        return num1 + num2\n",
    "    # except TypeError as err:\n",
    "    #     print(f'An TypeError occurred: {err}')\n",
    "    except (TypeError, ZeroDivisionError) as err:\n",
    "        print(f'An TypeError occurred: {err}')\n",
    "\n",
    "\n",
    "# print(my_sum_function('1', 2)) # TypeError\n",
    "print(my_sum_function('1', 2))\n",
    "print(my_sum_function(2, 0))\n"
   ]
  },
  {
   "cell_type": "markdown",
   "metadata": {},
   "source": [
    "## Exercise: Error Handling"
   ]
  },
  {
   "cell_type": "code",
   "execution_count": null,
   "metadata": {},
   "outputs": [],
   "source": [
    "while True:\n",
    "    try:\n",
    "        age = int(input('What is your age? '))\n",
    "        10/age\n",
    "    except ValueError:\n",
    "        print('Please enter a valid integer.')\n",
    "        continue\n",
    "    except ZeroDivisionError:\n",
    "        print('Please enter an age higher than 0.')\n",
    "        break\n",
    "    else:\n",
    "        print('Thank you!')\n",
    "    finally:\n",
    "        print('This will run no matter what.')\n",
    "    print('Hey! I am outside the try/except block!')"
   ]
  },
  {
   "cell_type": "markdown",
   "metadata": {},
   "source": [
    "## Error Handling 3"
   ]
  },
  {
   "cell_type": "markdown",
   "metadata": {},
   "source": [
    "You can `raise` exceptions and errors in Python. This is useful for actually stopping the program and showing the error to the user rather than catching the error and continuing."
   ]
  },
  {
   "cell_type": "code",
   "execution_count": null,
   "metadata": {},
   "outputs": [],
   "source": [
    "while True:\n",
    "    try:\n",
    "        age = int(input('What is your age? '))\n",
    "        10/age\n",
    "        raise ValueError('This is my custom ValueError message.')\n",
    "    except ZeroDivisionError:\n",
    "        print('Please enter an age higher than 0.')\n",
    "        break\n",
    "    else:\n",
    "        print('Thank you!')\n",
    "    finally:\n",
    "        print('This will run no matter what.')\n",
    "        raise Exception('This is my custom Exception message.')\n",
    "    print('Hey! I am outside the try/except block!')"
   ]
  }
 ],
 "metadata": {
  "interpreter": {
   "hash": "a23238b22d0e83c1704f993aada4b11b330ee1fc6ea5fc3a1c4c03d39a35b23d"
  },
  "kernelspec": {
   "display_name": "Python 3.10.2 64-bit",
   "language": "python",
   "name": "python3"
  },
  "language_info": {
   "codemirror_mode": {
    "name": "ipython",
    "version": 3
   },
   "file_extension": ".py",
   "mimetype": "text/x-python",
   "name": "python",
   "nbconvert_exporter": "python",
   "pygments_lexer": "ipython3",
   "version": "3.10.2"
  },
  "orig_nbformat": 4
 },
 "nbformat": 4,
 "nbformat_minor": 2
}
