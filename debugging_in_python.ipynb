{
 "cells": [
  {
   "cell_type": "markdown",
   "metadata": {},
   "source": [
    "# Debugging in Python"
   ]
  },
  {
   "cell_type": "markdown",
   "metadata": {},
   "source": [
    "## How to Debug Code"
   ]
  },
  {
   "cell_type": "markdown",
   "metadata": {},
   "source": [
    "The act of finding/removing bugs from code is called **debugging**.\n",
    "\n",
    "Tips:\n",
    "\n",
    "1. Use **linting**, which allows us to detect issues with our code.\n",
    "2. Use an IDE/editor, which have built-in tools for us or we can install/customize them.\n",
    "3. Read errors.\n",
    "4. Use **PDB**, a built-in module in Python. It's a debugger for Python interpreters.\n",
    "\n",
    "Within PDB debugger:\n",
    "\n",
    "- `num1` - View value of variable `num1`:\n",
    "- `list` - List source code of file\n",
    "- `help` - Get commands list, add a command as a parameter to see documentation for command\n",
    "- `step` or `s` - Lets us go to next line\n",
    "- `continue` - Continue through code until something returns\n",
    "- `a` - Get all arguments of function we're in\n",
    "- `w` - Get context (i.e. current function name)\n",
    "- `exit` - Exit PDB debugger"
   ]
  },
  {
   "cell_type": "code",
   "execution_count": null,
   "metadata": {},
   "outputs": [],
   "source": [
    "import pdb\n",
    "\n",
    "def add(num1, num2):\n",
    "    pdb.set_trace()\n",
    "    return num1 + num2\n",
    "\n",
    "add(4, 5)"
   ]
  }
 ],
 "metadata": {
  "interpreter": {
   "hash": "a23238b22d0e83c1704f993aada4b11b330ee1fc6ea5fc3a1c4c03d39a35b23d"
  },
  "kernelspec": {
   "display_name": "Python 3.10.2 64-bit",
   "language": "python",
   "name": "python3"
  },
  "language_info": {
   "codemirror_mode": {
    "name": "ipython",
    "version": 3
   },
   "file_extension": ".py",
   "mimetype": "text/x-python",
   "name": "python",
   "nbconvert_exporter": "python",
   "pygments_lexer": "ipython3",
   "version": "3.10.2"
  },
  "orig_nbformat": 4
 },
 "nbformat": 4,
 "nbformat_minor": 2
}
