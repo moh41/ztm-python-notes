{
 "cells": [
  {
   "cell_type": "markdown",
   "metadata": {},
   "source": [
    "# File I/O"
   ]
  },
  {
   "cell_type": "markdown",
   "metadata": {},
   "source": [
    "## Working With Files in Python"
   ]
  },
  {
   "cell_type": "markdown",
   "metadata": {},
   "source": [
    "File input/output (I/O) is the process of reading and writing data to files.\n",
    "\n",
    "Python has a built-in function for file I/O, called `open`. We work with files with a virtual cursor, so we can `read()` the entire file, `seek()` a position in the file (like 0 for the start), `readline()` to read a single line from the file, and `readlines()` to return all lines in the file as a list. Here's some sample code:\n",
    "\n",
    "```python\n",
    "my_file = open('test.txt')\n",
    "\n",
    "print(my_file.read())\n",
    "my_file.seek(0) # move the cursor to the beginning of the file\n",
    "print('---')\n",
    "print(my_file.readline())\n",
    "print(my_file.readlines())\n",
    "\n",
    "my_file.close()\n",
    "```"
   ]
  },
  {
   "cell_type": "markdown",
   "metadata": {},
   "source": [
    "## Read, Write, Append"
   ]
  },
  {
   "cell_type": "markdown",
   "metadata": {},
   "source": [
    "The better convention is to use `with` statements.\n",
    "\n",
    "```python\n",
    "# Reading\n",
    "with open('test.txt', mode='r') as my_file:\n",
    "    print(my_file.readlines())\n",
    "\n",
    "# Reading and writing, cursor put to 0\n",
    "with open('test.txt', mode='r+') as my_file:\n",
    "    text = my_file.write('hey it\\'s me!')\n",
    "    print(text) # Prints how many characters were written\n",
    "    print(my_file.readlines())\n",
    "\n",
    "# Write (assume new file and delete contents within it)\n",
    "with open('test.txt', mode='w') as my_file:\n",
    "    text = my_file.write('hey it\\'s me!')\n",
    "    print(text) # Prints how many characters were written\n",
    "\n",
    "# Appending\n",
    "with open('test.txt', mode='a') as my_file:\n",
    "    text = my_file.write('woah this is appended!')\n",
    "```"
   ]
  },
  {
   "cell_type": "markdown",
   "metadata": {},
   "source": [
    "## File Paths"
   ]
  },
  {
   "cell_type": "markdown",
   "metadata": {},
   "source": [
    "We can use `cd ..` to go up a directory, and `cd` to go into a directory. We use `/` to separate directories, though Windows may use `\\` instead. These are called relative paths. Absolute paths are full paths from the root user directory. `./` means the current directory, and `../` means the parent directory. There's a useful built-in path module called `pathlib` that can help us so that we don't have to worry about the path separator for different operating systems. `pathlib` takes care of that for us."
   ]
  },
  {
   "cell_type": "markdown",
   "metadata": {},
   "source": [
    "## File IO Errors"
   ]
  },
  {
   "cell_type": "markdown",
   "metadata": {},
   "source": [
    "We can use `try` and `except` to handle errors. An error may be `FileNotFoundError` if the file doesn't exist, and an `IOError` if the computer has an issue reading or writing to the file."
   ]
  },
  {
   "cell_type": "markdown",
   "metadata": {},
   "source": [
    "## Exercise: Translator"
   ]
  },
  {
   "cell_type": "markdown",
   "metadata": {},
   "source": [
    "Check out the `Translator` folder for an exercise that uses file I/O to translate text from a file to a different language (i.e. Japanese)."
   ]
  }
 ],
 "metadata": {
  "interpreter": {
   "hash": "a23238b22d0e83c1704f993aada4b11b330ee1fc6ea5fc3a1c4c03d39a35b23d"
  },
  "kernelspec": {
   "display_name": "Python 3.10.2 64-bit",
   "language": "python",
   "name": "python3"
  },
  "language_info": {
   "name": "python",
   "version": "3.10.2"
  },
  "orig_nbformat": 4
 },
 "nbformat": 4,
 "nbformat_minor": 2
}
