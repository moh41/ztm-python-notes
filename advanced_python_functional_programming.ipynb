{
 "cells": [
  {
   "cell_type": "markdown",
   "metadata": {},
   "source": [
    "# Advanced Python: Functional Programming"
   ]
  },
  {
   "cell_type": "markdown",
   "metadata": {},
   "source": [
    "## Functional Programming"
   ]
  },
  {
   "cell_type": "markdown",
   "metadata": {},
   "source": [
    "Another paradigm, a way to organize and structure code, is called functional programming."
   ]
  },
  {
   "cell_type": "markdown",
   "metadata": {},
   "source": [
    "## What is Functional Programming?"
   ]
  },
  {
   "cell_type": "markdown",
   "metadata": {},
   "source": [
    "**Functional programming** is about separation of concerns. In OOP we separated using classes, but in functional programming we separate data and functions rather than put them together in the same object.\n",
    "\n",
    "- Clear + Understandable\n",
    "- Easy to Extend\n",
    "- Easy to Maintain\n",
    "- Memory Efficient\n",
    "- DRY\n",
    "\n",
    "**Pure functions** are important in functional programming."
   ]
  },
  {
   "cell_type": "markdown",
   "metadata": {},
   "source": [
    "## Pure Functions"
   ]
  },
  {
   "cell_type": "markdown",
   "metadata": {},
   "source": [
    "A **pure function** is a function that when given an input, always returns the same output.\n",
    "\n",
    "1. Given the same input, the pure function will always return the same output.\n",
    "2. A function should not produce any **side effects**, things that a function does that affect the outside world (i.e. printing to the screen, working with a variable outside the function's scope).\n",
    "\n",
    "With pure functions, you generally have less buggy code and it's easier to understand. You won't have different parts of your code that are dependent on each other."
   ]
  },
  {
   "cell_type": "code",
   "execution_count": null,
   "metadata": {},
   "outputs": [],
   "source": [
    "# Pure function\n",
    "\n",
    "def multiply_by2(li):\n",
    "    new_list = []\n",
    "    for item in li:\n",
    "        new_list.append(item*2)\n",
    "    return new_list\n",
    "\n",
    "print(multiply_by2([1,2,3]))"
   ]
  },
  {
   "cell_type": "code",
   "execution_count": null,
   "metadata": {},
   "outputs": [],
   "source": [
    "# Has side effects (interacts with outside variables)\n",
    "# NOT Pure function\n",
    "\n",
    "new_list = []\n",
    "def multiply_by2(li):\n",
    "    for item in li:\n",
    "        new_list.append(item*2)\n",
    "    return new_list\n",
    "\n",
    "print(multiply_by2([1,2,3]))"
   ]
  },
  {
   "cell_type": "markdown",
   "metadata": {},
   "source": [
    "## `map()`"
   ]
  },
  {
   "cell_type": "markdown",
   "metadata": {},
   "source": [
    "`map()` transforms each element of an iterable by applying a function to it. It returns a new iterable, and allows us to uphold purity."
   ]
  },
  {
   "cell_type": "code",
   "execution_count": null,
   "metadata": {},
   "outputs": [],
   "source": [
    "# map(function, iterable)\n",
    "\n",
    "def multiply_by2(item):\n",
    "    return item * 2\n",
    "\n",
    "my_list = [1,2,3]\n",
    "# Create a map object\n",
    "print(map(multiply_by2, my_list))\n",
    "\n",
    "# Convert map object to list\n",
    "print(list(map(multiply_by2, my_list)))\n",
    "print(my_list)\n"
   ]
  },
  {
   "cell_type": "markdown",
   "metadata": {},
   "source": [
    "## `filter()`"
   ]
  },
  {
   "cell_type": "markdown",
   "metadata": {},
   "source": [
    "`filter()` creates a new array with all elements that pass the test implemented by the function passed to it."
   ]
  },
  {
   "cell_type": "code",
   "execution_count": null,
   "metadata": {},
   "outputs": [],
   "source": [
    "# filter(function, iterable)\n",
    "\n",
    "# Return true if item is odd\n",
    "def only_odd(item):\n",
    "    return item % 2 != 0\n",
    "\n",
    "my_list = [1,2,3]\n",
    "print(list(filter(only_odd, my_list)))\n",
    "print(my_list)\n"
   ]
  },
  {
   "cell_type": "markdown",
   "metadata": {},
   "source": [
    "## `zip()`"
   ]
  },
  {
   "cell_type": "markdown",
   "metadata": {},
   "source": [
    "When you have multiple iterables, you can zip them together using `zip()` to create an iterable of tuples."
   ]
  },
  {
   "cell_type": "code",
   "execution_count": null,
   "metadata": {},
   "outputs": [],
   "source": [
    "my_list = [1,2,3]\n",
    "your_list = [10,20,30]\n",
    "\n",
    "print(list(zip(my_list, your_list)))\n",
    "print(my_list)"
   ]
  },
  {
   "cell_type": "markdown",
   "metadata": {},
   "source": [
    "## `reduce()`"
   ]
  },
  {
   "cell_type": "markdown",
   "metadata": {},
   "source": [
    "We must import the `functools` module to use `reduce()`. We can use `reduce()` to reduce an iterable to a single value."
   ]
  },
  {
   "cell_type": "code",
   "execution_count": null,
   "metadata": {},
   "outputs": [],
   "source": [
    "# reduce(function, sequence[, initial])\n",
    "\n",
    "from functools import reduce\n",
    "\n",
    "my_list = [1,2,3]\n",
    "\n",
    "def accumulator(acc, item):\n",
    "    print(acc, item)\n",
    "    return acc + item\n",
    "\n",
    "print(reduce(accumulator, my_list, 0))"
   ]
  },
  {
   "cell_type": "markdown",
   "metadata": {},
   "source": [
    "## Exercises: map, filter, zip, reduce"
   ]
  },
  {
   "cell_type": "code",
   "execution_count": null,
   "metadata": {},
   "outputs": [],
   "source": [
    "from functools import reduce\n",
    "\n",
    "#1 Capitalize all of the pet names and print the list\n",
    "my_pets = ['sisi', 'bibi', 'titi', 'carla']\n",
    "\n",
    "def uppercase_pet(pet):\n",
    "    return pet.upper()\n",
    "\n",
    "print(list(map(uppercase_pet, my_pets)))\n",
    "\n",
    "#2 Zip the 2 lists into a list of tuples, but sort the numbers from lowest to highest.\n",
    "my_strings = ['a', 'b', 'c', 'd', 'e']\n",
    "my_numbers = [5,4,3,2,1]\n",
    "\n",
    "print(list(zip(my_strings, sorted(my_numbers))))\n",
    "\n",
    "#3 Filter the scores that pass over 50%\n",
    "scores = [73, 20, 65, 19, 76, 100, 88]\n",
    "def over_50(score):\n",
    "    return score > 50\n",
    "\n",
    "print(list(filter(over_50, scores)))\n",
    "\n",
    "#4 Combine all of the numbers that are in a list on this file using reduce (my_numbers and scores). What is the total?\n",
    "def accumulator(acc, value):\n",
    "    return acc + value\n",
    "\n",
    "print(reduce(accumulator, my_numbers + scores))"
   ]
  },
  {
   "cell_type": "markdown",
   "metadata": {},
   "source": [
    "## Lambda Expressions"
   ]
  },
  {
   "cell_type": "markdown",
   "metadata": {},
   "source": [
    "**Lambda expressions** are one-time anonymous functions that you don't need more than once.\n",
    "\n",
    "1. Functions you only use once\n",
    "2. Anonymous functions, so no name/storing necessary.\n",
    "\n",
    "```python\n",
    "lambda param: action(param)\n",
    "```"
   ]
  },
  {
   "cell_type": "code",
   "execution_count": null,
   "metadata": {},
   "outputs": [],
   "source": [
    "my_list = [1,2,3]\n",
    "print(list(map(lambda item: item*2, my_list)))\n",
    "print(list(filter(lambda item: item % 2 != 0, my_list)))\n",
    "print(reduce(lambda acc, item: acc + item, my_list))"
   ]
  },
  {
   "cell_type": "markdown",
   "metadata": {},
   "source": [
    "## Exercise: Lambda Expressions"
   ]
  },
  {
   "cell_type": "code",
   "execution_count": null,
   "metadata": {},
   "outputs": [],
   "source": [
    "# Square\n",
    "my_list = [5, 4, 3]\n",
    "\n",
    "print(list(map(lambda item: item ** 2, my_list)))\n",
    "\n",
    "# List Sorting, sort based on second tuple value\n",
    "\n",
    "a = [(0, 2), (4, 3), (9, 9), (10, -1)]\n",
    "\n",
    "a.sort(key=lambda x: x[1])\n",
    "print(a)\n",
    "# print(sorted(a, key = lambda item: item[1]))"
   ]
  },
  {
   "cell_type": "markdown",
   "metadata": {},
   "source": [
    "## List Comprehensions"
   ]
  },
  {
   "cell_type": "markdown",
   "metadata": {},
   "source": [
    "**List/Set/Dictionary comprehensions** are a way to create new iterables from existing iterables.\n",
    "\n",
    "```python\n",
    "my_list = [param for param in iterable]\n",
    "```"
   ]
  },
  {
   "cell_type": "code",
   "execution_count": null,
   "metadata": {},
   "outputs": [],
   "source": [
    "my_list = [char for char in 'hello']\n",
    "my_list2 = [num for num in range(10)]\n",
    "my_list3 = [num*2 for num in range(10)]\n",
    "my_list4 = [num*2 for num in range(10) if num % 2 == 0]\n",
    "print(my_list)\n",
    "print(my_list2)\n",
    "print(my_list3)\n",
    "print(my_list4)"
   ]
  },
  {
   "cell_type": "markdown",
   "metadata": {},
   "source": [
    "## Set and Dictionary Comprehension"
   ]
  },
  {
   "cell_type": "code",
   "execution_count": null,
   "metadata": {},
   "outputs": [],
   "source": [
    "my_list = {char for char in 'hello'}\n",
    "my_list2 = {num for num in range(10)}\n",
    "my_list3 = {num*2 for num in range(10)}\n",
    "my_list4 = {num*2 for num in range(10) if num % 2 == 0}\n",
    "print(my_list)\n",
    "print(my_list2)\n",
    "print(my_list3)\n",
    "print(my_list4)\n",
    "\n",
    "simple_dict = {\n",
    "    'a': 1,\n",
    "    'b': 2,\n",
    "}\n",
    "\n",
    "my_dict = {key:value**2 for key,value in simple_dict.items()}\n",
    "my_dict2 = {k:v**2 for k,v in simple_dict.items() if v % 2 == 0}\n",
    "print(my_dict)\n",
    "print(my_dict2)\n",
    "\n",
    "my_dict3 = {num:num*2 for num in [1,2,3]}\n",
    "my_dict4 = {k:v for k,v in list(zip([1,2,3], map(lambda x: x*2, [1,2,3])))}\n",
    "print(my_dict3)\n",
    "print(my_dict4)"
   ]
  },
  {
   "cell_type": "markdown",
   "metadata": {},
   "source": [
    "## Exercise: Comprehensions"
   ]
  },
  {
   "cell_type": "code",
   "execution_count": null,
   "metadata": {},
   "outputs": [],
   "source": [
    "some_list = ['a', 'b', 'c', 'b', 'd', 'm', 'n', 'n']\n",
    "\n",
    "# duplicates = []\n",
    "\n",
    "# for value in some_list:\n",
    "#     if some_list.count(value) > 1:\n",
    "#         if value not in duplicates:\n",
    "#             duplicates.append(value)\n",
    "\n",
    "duplicates = list(set([x for x in some_list if some_list.count(x) > 1]))\n",
    "duplicates2 = list(set(value for value in some_list if some_list.count(value) > 1))\n",
    "print(duplicates)\n",
    "print(duplicates2)\n"
   ]
  },
  {
   "cell_type": "markdown",
   "metadata": {},
   "source": [
    "## Exercise: Imposter Syndrome"
   ]
  },
  {
   "cell_type": "markdown",
   "metadata": {},
   "source": [
    "**Imposter syndrome** is the idea that you're not good enough. This is just learning, over time you'll get comfortable and experience and this syndrome is actually great because it means you're learning. Try practicing, explaining, and **teaching what you learn**."
   ]
  }
 ],
 "metadata": {
  "interpreter": {
   "hash": "a23238b22d0e83c1704f993aada4b11b330ee1fc6ea5fc3a1c4c03d39a35b23d"
  },
  "kernelspec": {
   "display_name": "Python 3.10.2 64-bit",
   "language": "python",
   "name": "python3"
  },
  "language_info": {
   "codemirror_mode": {
    "name": "ipython",
    "version": 3
   },
   "file_extension": ".py",
   "mimetype": "text/x-python",
   "name": "python",
   "nbconvert_exporter": "python",
   "pygments_lexer": "ipython3",
   "version": "3.10.2"
  },
  "orig_nbformat": 4
 },
 "nbformat": 4,
 "nbformat_minor": 2
}
