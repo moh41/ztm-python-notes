{
 "cells": [
  {
   "cell_type": "markdown",
   "metadata": {},
   "source": [
    "# Web Development With Python"
   ]
  },
  {
   "cell_type": "markdown",
   "metadata": {},
   "source": [
    "## How Websites Work"
   ]
  },
  {
   "cell_type": "markdown",
   "metadata": {},
   "source": [
    "We have a browser (Chrome, Firefox, etc.) where we go to a website, which makes our browser send a request to a (local or remote) server for data. The local machine and remote server communicate over HTTP or HTTPS (secure/encrypted version of HTTP). The server then responds by sending to our browser data, which is composed of HTML (structure), CSS (styling), and JavaScript (behavior/functionality). The browser then displays the data to us.\n",
    "\n",
    "With Python we can build the server with its logic/rules, though the server could be written in other languages like Node.js, PHP, and Java too."
   ]
  },
  {
   "cell_type": "markdown",
   "metadata": {},
   "source": [
    "## How Websites Work 2"
   ]
  },
  {
   "cell_type": "markdown",
   "metadata": {},
   "source": [
    "A browser sends a request using HTTPS to a server and receives HTML/CSS/JavaScript files as data. In the Network tab of Chrome Developer Tools, you can see what data is received."
   ]
  },
  {
   "cell_type": "markdown",
   "metadata": {},
   "source": [
    "## Flask"
   ]
  },
  {
   "cell_type": "markdown",
   "metadata": {},
   "source": [
    "Flask and Django are useful frameworks for Python web development. Flask is lightweight to use."
   ]
  }
 ],
 "metadata": {
  "language_info": {
   "name": "python"
  },
  "orig_nbformat": 4
 },
 "nbformat": 4,
 "nbformat_minor": 2
}
