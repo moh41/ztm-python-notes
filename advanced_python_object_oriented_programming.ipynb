{
 "cells": [
  {
   "cell_type": "markdown",
   "metadata": {},
   "source": [
    "# Advanced Python: Object Oriented Programming"
   ]
  },
  {
   "cell_type": "markdown",
   "metadata": {},
   "source": [
    "## What is OOP?"
   ]
  },
  {
   "cell_type": "markdown",
   "metadata": {},
   "source": [
    "\"Everything in Python is an object.\"\n",
    "\n",
    "**Objects** (classes) have **methods** and **attributes**. We're able to create our own data types with different attributes and methods.\n",
    "\n",
    "Classes allow us to break functionality into multiple parts and put them together how we want.\n",
    "\n",
    "OOP is a **paradigm**, a way for us to think about our code and structure/organize it."
   ]
  },
  {
   "cell_type": "markdown",
   "metadata": {},
   "source": [
    "## What is OOP? Part 2"
   ]
  },
  {
   "cell_type": "markdown",
   "metadata": {},
   "source": [
    "OOP allows us to model our code similar to real-world objects.\n",
    "\n",
    "We're going to capitalize our class names and use camel case (every word is a capital letter).\n",
    "\n",
    "Instantiating a class creates instances of an object.\n",
    "\n",
    "The blueprint of the class is stored in memory."
   ]
  },
  {
   "cell_type": "code",
   "execution_count": null,
   "metadata": {},
   "outputs": [],
   "source": [
    "class BigObject:\n",
    "    pass\n",
    "\n",
    "obj1 = BigObject() # Instantiating\n",
    "obj2 = BigObject()\n",
    "print(type(obj1))"
   ]
  },
  {
   "cell_type": "markdown",
   "metadata": {},
   "source": [
    "## Creating Our Own Objects"
   ]
  },
  {
   "cell_type": "markdown",
   "metadata": {},
   "source": [
    "- The default parameter when defining a Python method for a class is `self`.\n",
    "- `self` refers to the current instance, or whatever is to the left of the dot (`.`).\n",
    "- `__init__` is the **constructor method**, which is automatically called when instantiating an object. It's not obligatory to include it."
   ]
  },
  {
   "cell_type": "code",
   "execution_count": null,
   "metadata": {},
   "outputs": [],
   "source": [
    "class PlayerCharacter:\n",
    "    # Constructor/Init method: automatically called when instantiating the class\n",
    "    def __init__(self, name, age):\n",
    "        self.name = name # Attribute\n",
    "        self.age = age\n",
    "    \n",
    "    def run(self):\n",
    "        return 'run'\n",
    "\n",
    "player1 = PlayerCharacter('John', 20)\n",
    "player2 = PlayerCharacter('Aaron', 23)\n",
    "print(player1.name)\n",
    "print(player2.name)\n",
    "print(player2.run())\n",
    "print(player1.age)\n",
    "print(player2.age)"
   ]
  },
  {
   "cell_type": "markdown",
   "metadata": {},
   "source": [
    "## Attributes and Methods"
   ]
  },
  {
   "cell_type": "markdown",
   "metadata": {},
   "source": [
    "OOP allows us to add methods (class functions) and attributes (class properties).\n",
    "\n",
    "OOP allows us to create code that is:\n",
    "\n",
    "- Repeatable\n",
    "- Well-organized\n",
    "- Efficient\n",
    "\n",
    "Ultimately we can mimic objects from the real-world."
   ]
  },
  {
   "cell_type": "markdown",
   "metadata": {},
   "source": [
    "We can create **class object attributes** which are not dynamic but rather static, so they are not unique for each instantiated object (unlike attributes setup in the constructor). They don't change across instances. We still need to use `self` to access the class object attribute, or we can use the class name itself."
   ]
  },
  {
   "cell_type": "code",
   "execution_count": null,
   "metadata": {},
   "outputs": [],
   "source": [
    "class PlayerCharacter:\n",
    "    membership = True # Class object attribute\n",
    "    # Constructor/Init method: automatically called when instantiating the class\n",
    "    def __init__(self, name, age):\n",
    "        if (PlayerCharacter.membership):\n",
    "            self.name = name # Attribute\n",
    "            self.age = age\n",
    "    \n",
    "    def run(self, hello):\n",
    "        return hello\n",
    "\n",
    "player1 = PlayerCharacter('John', 20)\n",
    "player1.run('hello')"
   ]
  },
  {
   "cell_type": "markdown",
   "metadata": {},
   "source": [
    "## `__init__`"
   ]
  },
  {
   "cell_type": "markdown",
   "metadata": {},
   "source": [
    "`__init__` is the constructor method. It's automatically called when instantiating an object and is a dunder method that isn't obligatory to define."
   ]
  },
  {
   "cell_type": "code",
   "execution_count": null,
   "metadata": {},
   "outputs": [],
   "source": [
    "class PlayerCharacter:\n",
    "    membership = True # Class object attribute\n",
    "    # Constructor/Init method: automatically called when instantiating the class\n",
    "    def __init__(self, name='anonymous', age=0):\n",
    "        if (age > 18):\n",
    "            self.name = name # Attribute\n",
    "            self.age = age\n",
    "    \n",
    "    def run(self, hello):\n",
    "        return hello\n",
    "\n",
    "player1 = PlayerCharacter('John', 20)\n",
    "player1 = PlayerCharacter()\n",
    "player1.run('hello')"
   ]
  },
  {
   "cell_type": "markdown",
   "metadata": {},
   "source": [
    "## Exercise: Cats Everywhere"
   ]
  },
  {
   "cell_type": "code",
   "execution_count": null,
   "metadata": {},
   "outputs": [],
   "source": [
    "#Given the below class:\n",
    "class Cat:\n",
    "    species = 'mammal'\n",
    "    oldest_age = None\n",
    "    def __init__(self, name, age):\n",
    "        if Cat.oldest_age == None:\n",
    "            Cat.oldest_age = age\n",
    "        if age > Cat.oldest_age:\n",
    "            Cat.oldest_age = age\n",
    "        self.name = name\n",
    "        self.age = age\n",
    "    \n",
    "    def oldest(self):\n",
    "        return Cat.oldest_age\n",
    "\n",
    "\n",
    "# 1 Instantiate the Cat object with 3 cats\n",
    "cat1 = Cat('Tom', 20)\n",
    "cat2 = Cat('John', 18)\n",
    "cat3 = Cat('Geronimo', 10)\n",
    "\n",
    "\n",
    "# 2 Create a function that finds the oldest cat\n",
    "print(f\"The oldest cat is {str(cat1.oldest())} years old.\")\n",
    "\n",
    "\n",
    "# 3 Print out: \"The oldest cat is x years old.\". x will be the oldest cat age by using the function in #2\n"
   ]
  },
  {
   "cell_type": "markdown",
   "metadata": {},
   "source": [
    "## `@classmethod` and `@staticmethod`"
   ]
  },
  {
   "cell_type": "markdown",
   "metadata": {},
   "source": [
    "`@classmethod` are methods on the actual class rather than for objects uniquely, however you can use them from objects. We use `cls` instead of `self`, where `cls` represents the class itself and you can use it to instantiate an object. `@staticmethod` is the same except it doesn't have access to `cls`, where you don't care about the object attributes."
   ]
  },
  {
   "cell_type": "code",
   "execution_count": null,
   "metadata": {},
   "outputs": [],
   "source": [
    "class PlayerCharacter:\n",
    "    membership = True # Class object attribute\n",
    "    # Constructor/Init method: automatically called when instantiating the class\n",
    "    def __init__(self, name, age):\n",
    "        self.name = name # Attribute\n",
    "        self.age = age\n",
    "    \n",
    "    def run(self, hello):\n",
    "        return hello\n",
    "    \n",
    "    def check_self(self):\n",
    "        return self\n",
    "    \n",
    "    @classmethod\n",
    "    def adding_things(cls, num1, num2):\n",
    "        return cls('Teddy', num1 + num2)\n",
    "    \n",
    "    @staticmethod\n",
    "    def try_this_out(num1, num2):\n",
    "        return num1 + num2\n",
    "\n",
    "player1 = PlayerCharacter('John', 20)\n",
    "player1.run('hello')\n",
    "player3 = PlayerCharacter.adding_things(2, 3)\n",
    "print(player3.age)\n",
    "print(player3.check_self())"
   ]
  },
  {
   "cell_type": "markdown",
   "metadata": {},
   "source": [
    "## Reviewing What We Know So Far"
   ]
  },
  {
   "cell_type": "markdown",
   "metadata": {},
   "source": [
    "**OOP** is a paradigm, a way for us to think about structuring our code. We went from procedural to writing function to now writing OOP. We have a classical OOP, that is we use classes for OOP paradigms. We make classes with camel case names, which tells programmers that it can be instantiated. We learned about class-object attributes and how we can instantiate objects and how the `__init__` function runs on every instantiation to customize our objects. We learned about methods that are given for each of our objects. We learned about `@classmethod` and `@staticmethod` which are methods that can be called on the class without actually instantiating on the object."
   ]
  },
  {
   "cell_type": "markdown",
   "metadata": {},
   "source": [
    "## Developer Fundamentals: V"
   ]
  },
  {
   "cell_type": "markdown",
   "metadata": {},
   "source": [
    "**Test your assumptions.**\n",
    "\n",
    "Anytime you learn something, test your understanding so you know how things are working so you can explain what's going on."
   ]
  },
  {
   "cell_type": "markdown",
   "metadata": {},
   "source": [
    "## Encapsulation"
   ]
  },
  {
   "cell_type": "markdown",
   "metadata": {},
   "source": [
    "**Encapsulation** is the binding of data and functions that manipulate that data. This data and functions are called attributes and methods, and we can encapsulate the data and functions in a class/object/instance. If the class didn't have any methods and only had attributes, then it would just similar to a dictionary."
   ]
  },
  {
   "cell_type": "markdown",
   "metadata": {},
   "source": [
    "## Abstraction"
   ]
  },
  {
   "cell_type": "markdown",
   "metadata": {},
   "source": [
    "**Abstraction** means hiding information and giving access to only what's necessary."
   ]
  },
  {
   "cell_type": "code",
   "execution_count": null,
   "metadata": {},
   "outputs": [],
   "source": [
    "class PlayerCharacter:\n",
    "    def __init__(self, name, age):\n",
    "        self.name = name\n",
    "        self.age = age\n",
    "    def run(self):\n",
    "        print('run')\n",
    "    \n",
    "    def speak(self):\n",
    "        print(f'My name is {self.name} and I am {self.age} years old.')\n",
    "\n",
    "player1 = PlayerCharacter('John', 20)\n",
    "\n",
    "# We abstract the method's actual implementation\n",
    "player1.speak()\n",
    "\n",
    "# We can change the method's implementation, but we probably don't want to do this\n",
    "# player1.speak = 'Potato'"
   ]
  },
  {
   "cell_type": "markdown",
   "metadata": {},
   "source": [
    "## Private vs Public Variables"
   ]
  },
  {
   "cell_type": "markdown",
   "metadata": {},
   "source": [
    "With abstraction we hide away what we don't want to give access to. Some languages can have `private` variables, but in Python there's no true private variables. We start variables with `_` to denote private variables by convention, but theyt're still changeable. **Dunder methods** are built into Python and have special meaning as a convention denoted by `__` to not change/overwrite these methods."
   ]
  },
  {
   "cell_type": "code",
   "execution_count": null,
   "metadata": {},
   "outputs": [],
   "source": [
    "# Note that the following are by convention and denote that they should not be reassigned\n",
    "\n",
    "# Private variables\n",
    "# _name\n",
    "\n",
    "# Dunder methods\n",
    "# __init__"
   ]
  },
  {
   "cell_type": "markdown",
   "metadata": {},
   "source": [
    "## Inheritance"
   ]
  },
  {
   "cell_type": "markdown",
   "metadata": {},
   "source": [
    "**Inheritance** allows new objects to take on the properties of existing objects. This allows for shared functionality."
   ]
  },
  {
   "cell_type": "code",
   "execution_count": null,
   "metadata": {},
   "outputs": [],
   "source": [
    "class User:\n",
    "    def sign_in(self):\n",
    "        print('logged in')\n",
    "\n",
    "class Knight(User):\n",
    "    def __init__(self, name, type):\n",
    "        self.name = name\n",
    "        self.type = type\n",
    "\n",
    "class Archer(User):\n",
    "    def __init__(self, name, num_arrows):\n",
    "        self.name = name\n",
    "        self.num_arrows = num_arrows\n",
    "    \n",
    "    def run(self):\n",
    "        print(f'{self.name} is now running.')\n",
    "\n",
    "knight1 = Knight('Shrek', 'swordsman')\n",
    "archer1 = Archer('Robin', 100)\n",
    "\n",
    "knight1.sign_in()\n",
    "archer1.sign_in()\n",
    "\n",
    "archer1.run()"
   ]
  },
  {
   "cell_type": "markdown",
   "metadata": {},
   "source": [
    "## Inheritance 2"
   ]
  },
  {
   "cell_type": "markdown",
   "metadata": {},
   "source": [
    "`isinstance` is a built in function in Python where we can use the syntax `isinstance(object, class)` to check if an object is an instance of a class. Everything in Python comes from the base Python object called `object`, so this is how you see all the default dunder methods."
   ]
  },
  {
   "cell_type": "code",
   "execution_count": null,
   "metadata": {},
   "outputs": [],
   "source": [
    "class User(object):\n",
    "    def sign_in(self):\n",
    "        print('logged in')\n",
    "\n",
    "class Knight(User):\n",
    "    def __init__(self, name, type):\n",
    "        self.name = name\n",
    "        self.type = type\n",
    "\n",
    "knight1 = Knight('Shrek', 'swordsman')\n",
    "\n",
    "isinstance(knight1, User)"
   ]
  },
  {
   "cell_type": "markdown",
   "metadata": {},
   "source": [
    "## Polymorphism"
   ]
  },
  {
   "cell_type": "markdown",
   "metadata": {},
   "source": [
    "**Polymorphism** refers to how object classes can share the same method names but they can act differently based on what object calls them."
   ]
  },
  {
   "cell_type": "code",
   "execution_count": null,
   "metadata": {},
   "outputs": [],
   "source": [
    "class User(object):\n",
    "    def sign_in(self):\n",
    "        print('logged in')\n",
    "    \n",
    "    def eat(self):\n",
    "        print('User is eating')\n",
    "\n",
    "class Knight(User):\n",
    "    def __init__(self, name, type):\n",
    "        self.name = name\n",
    "        self.type = type\n",
    "    \n",
    "    def eat(self):\n",
    "        print(f'The {self.type} {self.name} is now eating a delicious apple pie.')\n",
    "\n",
    "class Archer(User):\n",
    "    def __init__(self, name, num_arrows):\n",
    "        self.name = name\n",
    "        self.num_arrows = num_arrows\n",
    "    \n",
    "    def eat(self):\n",
    "        User.eat(self)\n",
    "        print(f'{self.name} is eating bread with {self.num_arrows} arrows left.')\n",
    "\n",
    "knight1 = Knight('Shrek', 'swordsman')\n",
    "archer1 = Archer('Robin', 100)\n",
    "\n",
    "knight1.sign_in()\n",
    "archer1.sign_in()\n",
    "\n",
    "knight1.eat()\n",
    "archer1.eat()\n"
   ]
  },
  {
   "cell_type": "markdown",
   "metadata": {},
   "source": [
    "## Exercise: Pets Everywhere"
   ]
  },
  {
   "cell_type": "code",
   "execution_count": null,
   "metadata": {},
   "outputs": [],
   "source": [
    "class Pets():\n",
    "    animals = []\n",
    "    def __init__(self, animals):\n",
    "        self.animals = animals\n",
    "\n",
    "    def walk(self):\n",
    "        for animal in self.animals:\n",
    "            print(animal.walk())\n",
    "\n",
    "class Cat():\n",
    "    is_lazy = True\n",
    "\n",
    "    def __init__(self, name, age):\n",
    "        self.name = name\n",
    "        self.age = age\n",
    "\n",
    "    def walk(self):\n",
    "        return f'{self.name} is just walking around'\n",
    "\n",
    "class Simon(Cat):\n",
    "    def sing(self, sounds):\n",
    "        return f'{sounds}'\n",
    "\n",
    "class Sally(Cat):\n",
    "    def sing(self, sounds):\n",
    "        return f'{sounds}'\n",
    "\n",
    "#1 Add another Cat\n",
    "class Tom(Cat):\n",
    "    def sing(self, sounds):\n",
    "        return f'{sounds}'\n",
    "\n",
    "#2 Create a list of all of the pets (create 3 cat instances from the above)\n",
    "simon = Simon('Simon', 20)\n",
    "sally = Sally('Sally', 22)\n",
    "tom = Tom('Tom', 18)\n",
    "my_cats = [simon, sally, tom]\n",
    "\n",
    "#3 Instantiate the Pet class with all your cats use variable my_pets\n",
    "my_pets = Pets(my_cats)\n",
    "\n",
    "#4 Output all of the cats walking using the my_pets instance\n",
    "my_pets.walk()"
   ]
  },
  {
   "cell_type": "markdown",
   "metadata": {},
   "source": [
    "## `super()`"
   ]
  },
  {
   "cell_type": "markdown",
   "metadata": {},
   "source": [
    "When we setup `__init__` in subclasses, notice that it overwrites the parent class's `__init__` so we don't receive the attributes of the parent class. We have two ways we can get the attributes from the parent class, by either calling the parent class's `__init__` function with parameters from instantiating the subclass, or we cna use `super()`. We can use `super()` to call the parent class's `__init__` in addition to the subclass's `__init__`."
   ]
  },
  {
   "cell_type": "code",
   "execution_count": null,
   "metadata": {},
   "outputs": [],
   "source": [
    "class User(object):\n",
    "    def __init__(self, email):\n",
    "        self.email = email\n",
    "\n",
    "    def sign_in(self):\n",
    "        print('logged in')\n",
    "\n",
    "class Knight(User):\n",
    "    def __init__(self, name, type, email):\n",
    "        User.__init__(self, email)\n",
    "        self.name = name\n",
    "        self.type = type\n",
    "    \n",
    "    def eat(self):\n",
    "        print(f'The {self.type} {self.name} is now eating a delicious apple pie.')\n",
    "\n",
    "class Archer(User):\n",
    "    def __init__(self, name, num_arrows, email):\n",
    "        super().__init__(email)\n",
    "        self.name = name\n",
    "        self.num_arrows = num_arrows\n",
    "    \n",
    "    def eat(self):\n",
    "        print(f'{self.name} is eating bread with {self.num_arrows} arrows left.')\n",
    "\n",
    "knight1 = Knight('Shrek', 'swordsman', 'shrek@gmail.com')\n",
    "archer1 = Archer('Robin', 100, 'robin@gmail.com')\n",
    "\n",
    "knight1.sign_in()\n",
    "archer1.sign_in()\n",
    "\n",
    "print(knight1.email)\n",
    "print(archer1.email)"
   ]
  },
  {
   "cell_type": "markdown",
   "metadata": {},
   "source": [
    "## Object Introspection"
   ]
  },
  {
   "cell_type": "markdown",
   "metadata": {},
   "source": [
    "**Introspection** means the ability to determine the type of an object at runtime (when the code is running). This is a strength in Python, so we can examine objects with some helper functions."
   ]
  },
  {
   "cell_type": "code",
   "execution_count": null,
   "metadata": {},
   "outputs": [],
   "source": [
    "class Animal:\n",
    "    def __init__(self, name):\n",
    "        self.name = name\n",
    "\n",
    "    def speak(self):\n",
    "        return self.name + ' makes a noise.'\n",
    "\n",
    "print(dir(Animal))\n",
    "print(dir(object))"
   ]
  },
  {
   "cell_type": "markdown",
   "metadata": {},
   "source": [
    "## Dunder Methods"
   ]
  },
  {
   "cell_type": "markdown",
   "metadata": {},
   "source": [
    "**Dunder methods** are special methods that allow us to use Python-specific functions on objects created through classes. There may be special cases where you want to modify dunder methods, so you can do so within the class."
   ]
  },
  {
   "cell_type": "code",
   "execution_count": null,
   "metadata": {},
   "outputs": [],
   "source": [
    "class Toy():\n",
    "    def __init__(self, color, age):\n",
    "        self.color = color\n",
    "        self.age = age\n",
    "        self.my_dict = {\n",
    "            'name': 'yoyo',\n",
    "            'pets': False\n",
    "        }\n",
    "    \n",
    "    def __str__(self):\n",
    "        return f'{self.color}'\n",
    "    \n",
    "    def __len__(self):\n",
    "        return 5\n",
    "    \n",
    "    def __del__(self):\n",
    "        print('deleted!')\n",
    "    \n",
    "    # We can actually call the object as a function\n",
    "    def __call__(self):\n",
    "        return 'yes?'\n",
    "    \n",
    "    def __getitem__(self, i):\n",
    "        return self.my_dict[i]\n",
    "\n",
    "\n",
    "action_figure  = Toy('red', 0)\n",
    "print(action_figure.__str__()) # same as str(action_figure)\n",
    "print(str(action_figure))\n",
    "print(action_figure.__len__()) # same as len(action_figure)\n",
    "print(len(action_figure))\n",
    "print(action_figure())\n",
    "print(action_figure['name'])"
   ]
  },
  {
   "cell_type": "markdown",
   "metadata": {},
   "source": [
    "## Exercise: Extending List"
   ]
  },
  {
   "cell_type": "code",
   "execution_count": null,
   "metadata": {},
   "outputs": [],
   "source": [
    "class SuperList(list):\n",
    "    def __len__(self):\n",
    "        return 1000\n",
    "\n",
    "\n",
    "super_list1 = SuperList()\n",
    "\n",
    "len(super_list1)\n",
    "super_list1.append(5)\n",
    "print(super_list1[0])\n",
    "\n",
    "print(issubclass(SuperList, list))\n",
    "print(issubclass(list, object))"
   ]
  },
  {
   "cell_type": "markdown",
   "metadata": {},
   "source": [
    "## Multiple Inheritance"
   ]
  },
  {
   "cell_type": "code",
   "execution_count": null,
   "metadata": {},
   "outputs": [],
   "source": [
    "class User(object):\n",
    "    def __init__(self, email):\n",
    "        self.email = email\n",
    "\n",
    "class Knight(User):\n",
    "    def __init__(self, name, type, email):\n",
    "        User.__init__(self, email)\n",
    "        self.name = name\n",
    "        self.type = type\n",
    "    \n",
    "    def eat(self):\n",
    "        print(f'The {self.type} {self.name} is now eating a delicious apple pie.')\n",
    "\n",
    "class Archer(User):\n",
    "    def __init__(self, name, num_arrows, email):\n",
    "        super().__init__(email)\n",
    "        self.name = name\n",
    "        self.num_arrows = num_arrows\n",
    "    \n",
    "    def eat(self):\n",
    "        print(f'{self.name} is eating bread with {self.num_arrows} arrows left.')\n",
    "\n",
    "class Cyborg(Knight, Archer):\n",
    "    def __init__(self, name, type, num_arrows, email):\n",
    "        Archer.__init__(self, name, num_arrows, email)\n",
    "        Knight.__init__(self, name, type, email)\n",
    "\n",
    "knight1 = Knight('Shrek', 'swordsman', 'shrek@gmail.com')\n",
    "archer1 = Archer('Robin', 100, 'robin@gmail.com')\n",
    "cyborg1 = Cyborg('Cyborg', 'swordsman', 100, 'borgie@gmail.com')\n",
    "\n",
    "print(knight1.email)\n",
    "print(archer1.email)\n",
    "print(cyborg1.email)"
   ]
  },
  {
   "cell_type": "markdown",
   "metadata": {},
   "source": [
    "## MRO - Method Resolution Order"
   ]
  },
  {
   "cell_type": "markdown",
   "metadata": {},
   "source": [
    "**MRO (Method Resolution Order)** is a rule that determines which method is called first when an object calls a method. The order is determined by the order of the classes in the inheritance hierarchy. MRO uses depth-first search to identify which method is called first."
   ]
  },
  {
   "cell_type": "code",
   "execution_count": null,
   "metadata": {},
   "outputs": [],
   "source": [
    "class A:\n",
    "    num = 10\n",
    "\n",
    "class B(A):\n",
    "    pass\n",
    "\n",
    "class C(A):\n",
    "    num = 1\n",
    "\n",
    "class D(B, C):\n",
    "    pass\n",
    "\n",
    "print(D.num)\n",
    "print(D.mro()) # Shows the order of classes in the inheritance hierarchy"
   ]
  }
 ],
 "metadata": {
  "interpreter": {
   "hash": "a23238b22d0e83c1704f993aada4b11b330ee1fc6ea5fc3a1c4c03d39a35b23d"
  },
  "kernelspec": {
   "display_name": "Python 3.10.2 64-bit",
   "language": "python",
   "name": "python3"
  },
  "language_info": {
   "codemirror_mode": {
    "name": "ipython",
    "version": 3
   },
   "file_extension": ".py",
   "mimetype": "text/x-python",
   "name": "python",
   "nbconvert_exporter": "python",
   "pygments_lexer": "ipython3",
   "version": "3.10.2"
  },
  "orig_nbformat": 4
 },
 "nbformat": 4,
 "nbformat_minor": 2
}
