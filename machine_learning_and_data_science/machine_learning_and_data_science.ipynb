{
 "cells": [
  {
   "cell_type": "markdown",
   "metadata": {},
   "source": [
    "# Machine Learning + Data Science"
   ]
  },
  {
   "cell_type": "markdown",
   "metadata": {},
   "source": [
    "## Section Overview"
   ]
  },
  {
   "cell_type": "markdown",
   "metadata": {},
   "source": [
    "Machines are good at things we can describe (i.e. `if`/`else` blocks to do something). Computers are good at doing really well-defined tasks and following rules.\n",
    "\n",
    "Machine learning has so many applications like self-driving cars, robots, vision processing, language processing, recommendation engines, translations, stock-price predictions, and so many more. The goal of **machine learning** is to make machines act more like humans because the smarter they get the more they help us humans accomplish our goals."
   ]
  },
  {
   "cell_type": "markdown",
   "metadata": {},
   "source": [
    "## How Machine Learning Works"
   ]
  },
  {
   "cell_type": "markdown",
   "metadata": {},
   "source": [
    "As a developer, often we work procedurally. We give an input, build a function, and have the machine give us the output.\n",
    "\n",
    "However with machine learning, we provide inputs and expected outputs, while the machine builds the function.\n",
    "\n",
    "Often with the more data we can provide, the better the machine's function will be. We often call this function our **model**, or algorithm, bot, etc.\n",
    "\n",
    "Something to note is that the more complex the model is, the harder it is for us as developers to really understand what is going on."
   ]
  },
  {
   "cell_type": "markdown",
   "metadata": {},
   "source": [
    "## History of Data"
   ]
  },
  {
   "cell_type": "markdown",
   "metadata": {},
   "source": [
    "Spreadsheets were amazing for businesses, and people got really good at analyzing these spreadsheets to make business decisions.\n",
    "\n",
    "As companies got more data, relational databases provided SQL to help analyze and work with data better.\n",
    "\n",
    "In the 2000s, a word \"Big Data\" was a lot of data you simply couldn't analyze with a spreadsheet. Sometimes, we had a lot of messy, unstructured data, so we used NoSQL databases to help work with them.\n",
    "\n",
    "We resorted to machine learning as there's so much data but a human can't look and figure things out from the data. Machine leaning helped come into fruition with the growth of data, GPU enhancements, and more."
   ]
  },
  {
   "cell_type": "markdown",
   "metadata": {},
   "source": [
    "## Types of Machine Learning"
   ]
  },
  {
   "cell_type": "markdown",
   "metadata": {},
   "source": [
    "Machine Learning: Predicting results based on incoming data.\n",
    "\n",
    "Some types of machine learning:\n",
    "\n",
    "- **Supervised learning**: Data that we receive already has categories/labels.\n",
    "  - Examples\n",
    "    - A csv file label data and test data that is labelled.\n",
    "  - Classification\n",
    "    - Is this an apple or a pear? Let's draw a line to decide.\n",
    "  - Regression\n",
    "    - Predicting stock prices.\n",
    "    - Hiring engineers based on inputs (years of experience, age, location, etc.).\n",
    "- **Unsupervised learning**: Data that does not have categories/labels.\n",
    "  - Examples\n",
    "    - A csv file without the column names' labels (headers).\n",
    "  - Clustering\n",
    "    - The machine tries to form groups/categories/labels from the data.\n",
    "  - Association rule learning\n",
    "    - Associate different data to predict a decision/outcome.\n",
    "- **Reinforcement learning**: The program learns through trial and error.\n",
    "  - Skill acquisition\n",
    "  - Real time learning\n",
    "\n",
    "Overall, all these types are trying to learn from the data it receives and predict something."
   ]
  },
  {
   "cell_type": "markdown",
   "metadata": {},
   "source": [
    "## Machine Learning 101"
   ]
  },
  {
   "cell_type": "markdown",
   "metadata": {},
   "source": [
    "Fundamental machine learning pipeline a machine learning expert goes through:\n",
    "\n",
    "1. Import the data\n",
    "2. Clean the data\n",
    "3. Split the data. Training set/Test set.\n",
    "   - Example: 80 csv rows are training set for machine to learn from, and 20 other rows are test set for step 5.\n",
    "4. Create a model.\n",
    "   - Often importing (i.e. scikit-learn) an algorithm rather than writing it yourself\n",
    "5. Check the output.\n",
    "   - Check the output with our test set to see if our model is good or bad.\n",
    "6. Improve.\n",
    "   - Ways to improve might be using more import, changing the algorithm, etc.\n",
    "\n",
    "Meta machine learning pipeline:\n",
    "\n",
    "1. Goal defining\n",
    "2. Data gathering\n",
    "3. Data parsing (cleaning and splitting)\n",
    "4. Model creation\n",
    "5. Accuracy testing\n",
    "\n",
    "Generally the hardest part is grabbing good data. Many companies don't need machine learning or its implementation because the larger companies with tons of data have access to it and therefore possible use cases for it."
   ]
  },
  {
   "cell_type": "markdown",
   "metadata": {},
   "source": [
    "## Tools in Machine Learning"
   ]
  },
  {
   "cell_type": "markdown",
   "metadata": {},
   "source": [
    "Python is one of the most popular languages for machine learning since Python has such a big community and is an easy/expressive language that has a ton of libraries/modules that help us do machine learning in a fast/efficient way. Python has the best tools available currently for machine learning.\n",
    "\n",
    "- **NumPy** is a library that helps use lists and arrays in Python, specifically multi-dimensional arrays which are used very often in machine learning.\n",
    "- **pandas** is a data analysis library which provides us the idea of a dataframe that allows us to manipulate data in rows/columns. pandas would often work with tabular data (i.e. from csv file) with a dataframe with many transformations/aggregations.\n",
    "- **scikit-learn** is a library that comes pre-built with different machine learning algorithms we can use.\n",
    "- **matplotlib** is a charting library that allows us to visualize data in a nice way. There are many tools built on top of matplotlib that allow us to visualize data in any way we want.\n",
    "- **Jupyter Notebooks** are useful when doing machine learning and data science as it allows us to step through our code and output it while keeping track and seeing visualizations. Users can step through each data analysis stage and visualize it, potentially even giving it to others and sharing a story with people in the company. It's pretty much a critical/standard tool in the data science and machine learning field.\n",
    "- **kaggle** is a community of machine learning experts where you can do competitions, look at others' jupyter notebooks, and it also has data sets. So we have free access to massive amounts of data that is openly available and downloadable."
   ]
  }
 ],
 "metadata": {
  "language_info": {
   "name": "python"
  },
  "orig_nbformat": 4
 },
 "nbformat": 4,
 "nbformat_minor": 2
}
