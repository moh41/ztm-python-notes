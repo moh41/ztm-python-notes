{
 "cells": [
  {
   "cell_type": "markdown",
   "metadata": {},
   "source": [
    "# Modules in Python"
   ]
  },
  {
   "cell_type": "markdown",
   "metadata": {},
   "source": [
    "How we've organized our Python code:\n",
    "\n",
    "1. Write in a single file\n",
    "2. Functions\n",
    "3. Classes\n",
    "\n",
    "We can link multiple files together using **modules**, where each module is a file. Inside of these files we can have functions, classes, and other modules.\n",
    "\n",
    "In the \"modules_in_python\" folder, each file is a module (`main.py` and `utility.py`).\n",
    "\n",
    "Our utility module has functions defined for use in our `main.py` file. We can use the `import` statement to import the `utility` module, like so:\n",
    "\n",
    "```python\n",
    "import utility\n",
    "\n",
    "print(utility.multiply(10, 20))\n",
    "print(utility.divide(20, 10))\n",
    "```\n",
    "\n",
    "We may generate a `__pycache__` folder which is created when we run a file with import statements. The interpreter creates the `__pycache__` file to cache anything the file imports so that it doesn't have to be imported again and can just run the import from cache so it is also faster."
   ]
  },
  {
   "cell_type": "markdown",
   "metadata": {},
   "source": [
    "## Packages in Python"
   ]
  },
  {
   "cell_type": "markdown",
   "metadata": {},
   "source": [
    "A **package** is simply a folder. Recall that modules are simply files. A package is a folder containing files (modules). We can import a specific module from a package using the `.` syntax. For example to import the `shopping_cart` module from the `shopping` package:\n",
    "\n",
    "```python\n",
    "import shopping.shopping_cart\n",
    "```\n",
    "\n",
    "A rule of Python packages is that the root of the package must have `__init__.py` file. This is because the interpreter will be able to identify the folder as a Python package, and it can be a completely empty file.\n",
    "\n",
    "When running a program, often when it is said `Process finished with exit code 0` it means that the program ran successfully."
   ]
  },
  {
   "cell_type": "markdown",
   "metadata": {},
   "source": [
    "## Different Ways to Import"
   ]
  },
  {
   "cell_type": "markdown",
   "metadata": {},
   "source": [
    "We can have another package in a package. But since this can be very long imports, we can use the `from` keyword to import specific modules or functions. For example:\n",
    "\n",
    "```python\n",
    "from utility import multiply, divide\n",
    "from shopping.more_shopping import shopping_cart\n",
    "from some_other_package import *\n",
    "```\n",
    "\n",
    "When you import a module or package, it might be better to be explicit with using the `from` keyword and the `import` keyword. This way you don't have any name collisions with other modules or packages, and keywords.\n",
    "\n",
    "Modules and packages help us build good projects especially for organization."
   ]
  },
  {
   "cell_type": "markdown",
   "metadata": {},
   "source": [
    "## `__name__`"
   ]
  },
  {
   "cell_type": "markdown",
   "metadata": {},
   "source": [
    "Python runs our code and goes through imports to add them to memory. There may be certain code we don't want to run unless it's the main file. We can use the `__name__` variable to check if it is the main file.\n",
    "\n",
    "Identifying the main file to run:\n",
    "\n",
    "```python\n",
    "if __name__ == '__main__':\n",
    "    # Run the code here\n",
    "```\n",
    "\n",
    "This can be useful for when we want to run a module or package only if it is the main file being run (i.e. package/module development testing).\n",
    "\n",
    "When we run the following class code, we can see it is called `__main__.Student` the class is created in the main file, but if it was created in a package or module, then `__main__` would be replaced by the name of the package or module."
   ]
  },
  {
   "cell_type": "code",
   "execution_count": null,
   "metadata": {},
   "outputs": [],
   "source": [
    "class Student():\n",
    "    pass\n",
    "\n",
    "student1 = Student()\n",
    "print(type(student1))  # <class '__main__.Student'>"
   ]
  },
  {
   "cell_type": "markdown",
   "metadata": {},
   "source": [
    "## Python Built-In Modules"
   ]
  },
  {
   "cell_type": "markdown",
   "metadata": {},
   "source": [
    "A key feature of Python is that the core language is pretty small (we've been over most of it). A reason Python is so popular for all kinds of people and organizations is due to Python's **external modules and packages (external libraries**. We have a package system where we can borrow and expand on Python's functionality and they're called Python **built-in modules**. These modules are already installed with the Python interpeter but we have to import them to use them. In other languages this may be called a **standard library**, which are maintained by community members.\n",
    "\n",
    "We can use the `import` statement to import a built-in module. For example:\n",
    "\n",
    "```python\n",
    "import random\n",
    "```\n",
    "\n",
    "We can use the `help()` function to get help on a built-in module. For example:\n",
    "\n",
    "```python\n",
    "help(random)\n",
    "```\n",
    "\n",
    "We can see all the methods available in a package using `dir()`. For example:\n",
    "\n",
    "```python\n",
    "print(dir(random))\n",
    "```\n",
    "\n",
    "We can use the `as` keyword to rename an import. For example:\n",
    "\n",
    "```python\n",
    "import random as r\n",
    "\n",
    "print(r.random())\n",
    "```"
   ]
  },
  {
   "cell_type": "markdown",
   "metadata": {},
   "source": [
    "## Python Built-In Modules 2"
   ]
  },
  {
   "cell_type": "markdown",
   "metadata": {},
   "source": [
    "There's another module called `sys` which can be used to get information about the Python interpreter. We can even get terminal inputs as a list using `sys.argv`. For example:\n",
    "\n",
    "```python\n",
    "import sys\n",
    "\n",
    "print(sys.argv[0]) # Prints the name of the file being run\n",
    "if sys.argv[1]:\n",
    "    print(sys.argv[1]) # Prints the first argument after the file name\n",
    "```\n",
    "\n",
    "Check out `exercise_guessing_game/randomgame.py` for a game that uses the `random` and `sys` module. Here's the instructor solution without using `sys`:"
   ]
  },
  {
   "cell_type": "code",
   "execution_count": null,
   "metadata": {},
   "outputs": [],
   "source": [
    "from random import randint\n",
    "# Generate a number 1-10\n",
    "answer = randint(1, 10)\n",
    "# Input from user\n",
    "# Check that input is a number 1-10\n",
    "while True:\n",
    "    try:\n",
    "        guess = int(input('Guess a number between 1 and 10: '))\n",
    "        if 1 <= guess <= 10:\n",
    "            if guess == answer:\n",
    "                print(\"You're a genius!\")\n",
    "                break\n",
    "        else:\n",
    "            print('Please enter a number between 1 and 10.')\n",
    "    except ValueError:\n",
    "        print('Please enter a number between 1 and 10.')\n",
    "        continue\n",
    "# Check if number is the right guess. Otherwise ask again."
   ]
  },
  {
   "cell_type": "markdown",
   "metadata": {},
   "source": [
    "## Python Package Index"
   ]
  },
  {
   "cell_type": "markdown",
   "metadata": {},
   "source": [
    "Developers can share their own code, files, modules, and packages with other developers. These are libraries built by the developer community. We can do this using `pip install`. There's the **Python Package Index ([https://pypi.org](https://pypi.org))** where you can find Python packages."
   ]
  },
  {
   "cell_type": "markdown",
   "metadata": {},
   "source": [
    "## `pip install`"
   ]
  },
  {
   "cell_type": "markdown",
   "metadata": {},
   "source": [
    "We can install packages using `pip install`. For example when installing the `requests` package with our terminal:\n",
    "\n",
    "```bash\n",
    "pip install requests\n",
    "```"
   ]
  },
  {
   "cell_type": "markdown",
   "metadata": {},
   "source": [
    "## Virtual Environments"
   ]
  },
  {
   "cell_type": "markdown",
   "metadata": {},
   "source": [
    "Libraries are maintained by people and organizations. You can uninstall packages and install specific versions of packages.\n",
    "\n",
    "```bash\n",
    "pip uninstall pyjokes\n",
    "pip install pyjokes==0.4.0\n",
    "```\n",
    "\n",
    "We can use **virtual environments** which allow us to have different versions of packages based on each project. We can use `python -m venv` to create a virtual environment. Then we can run the virtual environment with `source venv/bin/activate` or `source venv\\\\Scripts\\\\activate` to activate the environment and start using pip install within it. We can export the packages to `requirements.txt` using `pip freeze > requirements.txt` which can help other developers install required packages easily in their own virtual environments by running `pip install -r requirements.txt`. We can use `deactivate` to deactivate the environment.\n",
    "\n",
    "Tip: In VSCode, you can set the Python interpreter manually at the bottom and selecting the virtual environment `python.exe` file."
   ]
  },
  {
   "cell_type": "markdown",
   "metadata": {},
   "source": [
    "## Useful Modules"
   ]
  },
  {
   "cell_type": "code",
   "execution_count": null,
   "metadata": {},
   "outputs": [],
   "source": [
    "from collections import Counter, defaultdict, OrderedDict"
   ]
  },
  {
   "cell_type": "code",
   "execution_count": null,
   "metadata": {},
   "outputs": [],
   "source": [
    "# Counts occurrences\n",
    "li = [1,2,3,4,5,6,7,7]\n",
    "sentence = 'blah blah blah this is some text blah blah blah'\n",
    "print(Counter(li))\n",
    "print(Counter(sentence))"
   ]
  },
  {
   "cell_type": "code",
   "execution_count": null,
   "metadata": {},
   "outputs": [],
   "source": [
    "# Default value for nonexistent values\n",
    "dictionary = defaultdict(lambda: 'Does not exist.', {'a': 1, 'b': 2})\n",
    "print(dictionary['c'])"
   ]
  },
  {
   "cell_type": "code",
   "execution_count": null,
   "metadata": {},
   "outputs": [],
   "source": [
    "# Retains the order of insertion\n",
    "\n",
    "d = OrderedDict()\n",
    "d['a'] = 1\n",
    "d['b'] = 2\n",
    "\n",
    "d2 = OrderedDict()\n",
    "d2['b'] = 2\n",
    "d2['a'] = 1\n",
    "\n",
    "print(d == d2)"
   ]
  },
  {
   "cell_type": "markdown",
   "metadata": {},
   "source": [
    "## Interesting Tidbit: Python Dict"
   ]
  },
  {
   "cell_type": "markdown",
   "metadata": {},
   "source": [
    "Recently, Python made Dictionaries ordered by default (after version 3.7), so it might not be necessary to use `OrderedDict`."
   ]
  },
  {
   "cell_type": "markdown",
   "metadata": {},
   "source": [
    "## Useful Modules 2"
   ]
  },
  {
   "cell_type": "code",
   "execution_count": null,
   "metadata": {},
   "outputs": [],
   "source": [
    "# Manipulate date and time values\n",
    "import datetime\n",
    "import time\n",
    "\n",
    "print(datetime.time(5,45,2))\n",
    "time.sleep(5)\n",
    "print(datetime.date.today())"
   ]
  },
  {
   "cell_type": "code",
   "execution_count": null,
   "metadata": {},
   "outputs": [],
   "source": [
    "# Lists in Python are dynamic, so any number of elements can be added to a list.\n",
    "# Arrays in Python are static, so the size of the array must be defined when it is created.\n",
    "# Often arrays are more performant than lists.\n",
    "from array import array\n",
    "\n",
    "arr = array('i', [1,2,3])\n",
    "\n",
    "print(arr)\n",
    "print(arr[0])\n",
    "print(arr[1])\n",
    "print(arr[2])"
   ]
  },
  {
   "cell_type": "markdown",
   "metadata": {},
   "source": [
    "## Developer Fundamentals: VI"
   ]
  },
  {
   "cell_type": "markdown",
   "metadata": {},
   "source": [
    "Pros and cons of libraries.\n",
    "\n",
    "- Be careful of packages that can be buggy, outdated, not maintained, and malicious.\n",
    "- Adding more packages makes your projects heavier, ask yourself if you can just write the implementation yourself.\n",
    "- Identify what libraries are well-maintained and used by the community."
   ]
  }
 ],
 "metadata": {
  "interpreter": {
   "hash": "a23238b22d0e83c1704f993aada4b11b330ee1fc6ea5fc3a1c4c03d39a35b23d"
  },
  "kernelspec": {
   "display_name": "Python 3.10.2 64-bit",
   "language": "python",
   "name": "python3"
  },
  "language_info": {
   "codemirror_mode": {
    "name": "ipython",
    "version": 3
   },
   "file_extension": ".py",
   "mimetype": "text/x-python",
   "name": "python",
   "nbconvert_exporter": "python",
   "pygments_lexer": "ipython3",
   "version": "3.10.2"
  },
  "orig_nbformat": 4
 },
 "nbformat": 4,
 "nbformat_minor": 2
}
